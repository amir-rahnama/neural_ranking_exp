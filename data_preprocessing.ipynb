{
 "cells": [
  {
   "cell_type": "markdown",
   "id": "374deced",
   "metadata": {},
   "source": [
    "# Data preprocessing"
   ]
  },
  {
   "cell_type": "markdown",
   "id": "04c27359",
   "metadata": {},
   "source": [
    "## Libraries"
   ]
  },
  {
   "cell_type": "code",
   "execution_count": 1,
   "id": "ddfd1f8d",
   "metadata": {},
   "outputs": [],
   "source": [
    "%load_ext autoreload\n",
    "%autoreload 2"
   ]
  },
  {
   "cell_type": "code",
   "execution_count": 2,
   "id": "5539190b",
   "metadata": {},
   "outputs": [],
   "source": [
    "import os\n",
    "import logging\n",
    "os.environ[\"TF_CPP_MIN_LOG_LEVEL\"] = \"2\"\n",
    "logging.getLogger(\"tensorflow\").setLevel(logging.ERROR)\n",
    "\n",
    "import pandas as pd\n",
    "import numpy as np\n",
    "import tensorflow as tf\n",
    "from sklearn.datasets import load_svmlight_file\n",
    "from tensorflow_serving.apis import input_pb2\n",
    "from sklearn.model_selection import train_test_split\n",
    "from sklearn.feature_selection import SelectKBest\n",
    "from sklearn.feature_selection import f_classif\n",
    "from sklearn.feature_selection import VarianceThreshold\n",
    "from matplotlib import pyplot as plt\n",
    "from scipy.sparse import csr_matrix"
   ]
  },
  {
   "cell_type": "markdown",
   "id": "a35e19e2",
   "metadata": {},
   "source": [
    "## Loading data"
   ]
  },
  {
   "cell_type": "markdown",
   "id": "f47476bf",
   "metadata": {},
   "source": [
    "It is necessary to download the [dataset](https://webscope.sandbox.yahoo.com) manually and decompress it. We are using folder number one for this project, which contains three files (train, test, vali) in libSVM format and text extension."
   ]
  },
  {
   "cell_type": "markdown",
   "id": "f2b26d1b",
   "metadata": {},
   "source": [
    "The main difficulty of the yahoo dataset is that it contains more features than the MSLR-WEB10K and the set of features for each query-document variates. Therefore, we cannot load it using read_csv, and creating a pandas dataframe reading line by line is not feasible due to computer resources.\n",
    "\n",
    "The easiest is to load it as a [sparse matrix](https://docs.scipy.org/doc/scipy/reference/sparse.html).\n",
    "\n",
    "Pandas permits the conversion of sparse matrices into pandas dataframe, while each column is stored as an arrays.SparseArray."
   ]
  },
  {
   "cell_type": "code",
   "execution_count": 2,
   "id": "b35e3d76",
   "metadata": {},
   "outputs": [],
   "source": [
    "def from_libsvm_pandas(data_path):\n",
    "    matrix = load_svmlight_file(data_path, query_id=True) \n",
    "    features = pd.DataFrame.sparse.from_spmatrix(matrix[0])    \n",
    "    return features, matrix[1], matrix[2]"
   ]
  },
  {
   "cell_type": "code",
   "execution_count": 3,
   "id": "047d6f4c",
   "metadata": {},
   "outputs": [],
   "source": [
    "X_train, y_train, query_id_train = from_libsvm_pandas('ltrc_yahoo/set1.train.txt') \n",
    "X_test, y_test, query_id_test = from_libsvm_pandas('ltrc_yahoo/set1.test.txt')\n",
    "X_val, y_val, query_id_val = from_libsvm_pandas('ltrc_yahoo/set1.valid.txt')"
   ]
  },
  {
   "cell_type": "markdown",
   "id": "628671bc",
   "metadata": {},
   "source": [
    "## Feature selection"
   ]
  },
  {
   "cell_type": "markdown",
   "id": "ceb1d8f2",
   "metadata": {},
   "source": [
    "Due to memory limitations, it is not possible to work with 699 features. In fact, many pairs query-document have less than 699 features (hence, the sparse matrix). \n",
    "\n",
    "We can reduce the feature space considerably by leaving out the columns that have more than 50% of zeros or values nearly to zero."
   ]
  },
  {
   "cell_type": "code",
   "execution_count": 88,
   "id": "fbc0c362",
   "metadata": {},
   "outputs": [],
   "source": [
    "epsilon = 1e-6\n",
    "threshold = 0.5 * len(X_train)\n",
    "\n",
    "zero_columns = X_train.columns[(np.abs(X_train) < epsilon).sum() > threshold]\n",
    "\n",
    "X_train = X_train.drop(zero_columns, axis=1)\n",
    "X_test = X_test.drop(zero_columns, axis=1)\n",
    "X_val = X_val.drop(zero_columns, axis=1)"
   ]
  },
  {
   "cell_type": "code",
   "execution_count": 89,
   "id": "e4461bd6",
   "metadata": {},
   "outputs": [
    {
     "name": "stdout",
     "output_type": "stream",
     "text": [
      "(473134, 196)\n"
     ]
    },
    {
     "data": {
      "text/html": [
       "<div>\n",
       "<style scoped>\n",
       "    .dataframe tbody tr th:only-of-type {\n",
       "        vertical-align: middle;\n",
       "    }\n",
       "\n",
       "    .dataframe tbody tr th {\n",
       "        vertical-align: top;\n",
       "    }\n",
       "\n",
       "    .dataframe thead th {\n",
       "        text-align: right;\n",
       "    }\n",
       "</style>\n",
       "<table border=\"1\" class=\"dataframe\">\n",
       "  <thead>\n",
       "    <tr style=\"text-align: right;\">\n",
       "      <th></th>\n",
       "      <th>10</th>\n",
       "      <th>11</th>\n",
       "      <th>16</th>\n",
       "      <th>20</th>\n",
       "      <th>26</th>\n",
       "      <th>27</th>\n",
       "      <th>29</th>\n",
       "      <th>33</th>\n",
       "      <th>35</th>\n",
       "      <th>36</th>\n",
       "      <th>...</th>\n",
       "      <th>668</th>\n",
       "      <th>670</th>\n",
       "      <th>673</th>\n",
       "      <th>676</th>\n",
       "      <th>686</th>\n",
       "      <th>689</th>\n",
       "      <th>692</th>\n",
       "      <th>693</th>\n",
       "      <th>696</th>\n",
       "      <th>698</th>\n",
       "    </tr>\n",
       "  </thead>\n",
       "  <tbody>\n",
       "    <tr>\n",
       "      <th>0</th>\n",
       "      <td>0.56756</td>\n",
       "      <td>0.064688</td>\n",
       "      <td>0.073248</td>\n",
       "      <td>0.125780</td>\n",
       "      <td>0.18431</td>\n",
       "      <td>0.75984</td>\n",
       "      <td>0.75616</td>\n",
       "      <td>0.46928</td>\n",
       "      <td>0.51765</td>\n",
       "      <td>0.46008</td>\n",
       "      <td>...</td>\n",
       "      <td>0.39332</td>\n",
       "      <td>0.00000</td>\n",
       "      <td>0.46194</td>\n",
       "      <td>0.82599</td>\n",
       "      <td>0.43149</td>\n",
       "      <td>0.776530</td>\n",
       "      <td>0.93784</td>\n",
       "      <td>0.40828</td>\n",
       "      <td>0.046567</td>\n",
       "      <td>0.201640</td>\n",
       "    </tr>\n",
       "    <tr>\n",
       "      <th>1</th>\n",
       "      <td>0.00000</td>\n",
       "      <td>0.064688</td>\n",
       "      <td>0.035654</td>\n",
       "      <td>0.050978</td>\n",
       "      <td>0.16583</td>\n",
       "      <td>0.75984</td>\n",
       "      <td>0.00000</td>\n",
       "      <td>0.60506</td>\n",
       "      <td>0.68499</td>\n",
       "      <td>0.90748</td>\n",
       "      <td>...</td>\n",
       "      <td>0.47892</td>\n",
       "      <td>0.00000</td>\n",
       "      <td>0.00000</td>\n",
       "      <td>0.82780</td>\n",
       "      <td>0.64536</td>\n",
       "      <td>0.030142</td>\n",
       "      <td>0.00000</td>\n",
       "      <td>0.00000</td>\n",
       "      <td>0.046567</td>\n",
       "      <td>0.054559</td>\n",
       "    </tr>\n",
       "    <tr>\n",
       "      <th>2</th>\n",
       "      <td>0.00000</td>\n",
       "      <td>0.064688</td>\n",
       "      <td>0.041540</td>\n",
       "      <td>0.050978</td>\n",
       "      <td>0.16583</td>\n",
       "      <td>0.75984</td>\n",
       "      <td>0.00000</td>\n",
       "      <td>0.28741</td>\n",
       "      <td>0.61979</td>\n",
       "      <td>0.90748</td>\n",
       "      <td>...</td>\n",
       "      <td>0.47892</td>\n",
       "      <td>0.00000</td>\n",
       "      <td>0.00000</td>\n",
       "      <td>0.83315</td>\n",
       "      <td>0.74183</td>\n",
       "      <td>0.013032</td>\n",
       "      <td>0.00000</td>\n",
       "      <td>0.00000</td>\n",
       "      <td>0.023896</td>\n",
       "      <td>0.469010</td>\n",
       "    </tr>\n",
       "    <tr>\n",
       "      <th>3</th>\n",
       "      <td>0.56756</td>\n",
       "      <td>0.064688</td>\n",
       "      <td>0.275270</td>\n",
       "      <td>0.302670</td>\n",
       "      <td>0.21079</td>\n",
       "      <td>0.75984</td>\n",
       "      <td>0.72114</td>\n",
       "      <td>0.25227</td>\n",
       "      <td>0.73912</td>\n",
       "      <td>0.73840</td>\n",
       "      <td>...</td>\n",
       "      <td>0.47892</td>\n",
       "      <td>0.00000</td>\n",
       "      <td>0.65091</td>\n",
       "      <td>0.81744</td>\n",
       "      <td>0.40180</td>\n",
       "      <td>0.967590</td>\n",
       "      <td>0.98865</td>\n",
       "      <td>0.29241</td>\n",
       "      <td>0.046567</td>\n",
       "      <td>0.820420</td>\n",
       "    </tr>\n",
       "    <tr>\n",
       "      <th>4</th>\n",
       "      <td>0.56756</td>\n",
       "      <td>0.064688</td>\n",
       "      <td>0.013021</td>\n",
       "      <td>0.050978</td>\n",
       "      <td>0.13866</td>\n",
       "      <td>0.75984</td>\n",
       "      <td>0.70626</td>\n",
       "      <td>0.60506</td>\n",
       "      <td>0.35576</td>\n",
       "      <td>0.66609</td>\n",
       "      <td>...</td>\n",
       "      <td>0.47892</td>\n",
       "      <td>0.46792</td>\n",
       "      <td>0.39751</td>\n",
       "      <td>0.83342</td>\n",
       "      <td>0.38674</td>\n",
       "      <td>0.809340</td>\n",
       "      <td>0.85251</td>\n",
       "      <td>0.33987</td>\n",
       "      <td>0.046567</td>\n",
       "      <td>0.443740</td>\n",
       "    </tr>\n",
       "  </tbody>\n",
       "</table>\n",
       "<p>5 rows × 196 columns</p>\n",
       "</div>"
      ],
      "text/plain": [
       "       10        11        16        20       26       27       29       33   \\\n",
       "0  0.56756  0.064688  0.073248  0.125780  0.18431  0.75984  0.75616  0.46928   \n",
       "1  0.00000  0.064688  0.035654  0.050978  0.16583  0.75984  0.00000  0.60506   \n",
       "2  0.00000  0.064688  0.041540  0.050978  0.16583  0.75984  0.00000  0.28741   \n",
       "3  0.56756  0.064688  0.275270  0.302670  0.21079  0.75984  0.72114  0.25227   \n",
       "4  0.56756  0.064688  0.013021  0.050978  0.13866  0.75984  0.70626  0.60506   \n",
       "\n",
       "       35       36   ...      668      670      673      676      686  \\\n",
       "0  0.51765  0.46008  ...  0.39332  0.00000  0.46194  0.82599  0.43149   \n",
       "1  0.68499  0.90748  ...  0.47892  0.00000  0.00000  0.82780  0.64536   \n",
       "2  0.61979  0.90748  ...  0.47892  0.00000  0.00000  0.83315  0.74183   \n",
       "3  0.73912  0.73840  ...  0.47892  0.00000  0.65091  0.81744  0.40180   \n",
       "4  0.35576  0.66609  ...  0.47892  0.46792  0.39751  0.83342  0.38674   \n",
       "\n",
       "        689      692      693       696       698  \n",
       "0  0.776530  0.93784  0.40828  0.046567  0.201640  \n",
       "1  0.030142  0.00000  0.00000  0.046567  0.054559  \n",
       "2  0.013032  0.00000  0.00000  0.023896  0.469010  \n",
       "3  0.967590  0.98865  0.29241  0.046567  0.820420  \n",
       "4  0.809340  0.85251  0.33987  0.046567  0.443740  \n",
       "\n",
       "[5 rows x 196 columns]"
      ]
     },
     "metadata": {},
     "output_type": "display_data"
    }
   ],
   "source": [
    "print(X_train.shape)\n",
    "display(X_val.head())"
   ]
  },
  {
   "cell_type": "markdown",
   "id": "c8351e4e",
   "metadata": {},
   "source": [
    "This leaves us with 196 features for all three sets. \n",
    "\n",
    "To select 100 out of these 196, we run a statistic test (ANOVA) to evaluate the relationship between each feature and the target variable, and select the top k features with the highest scores. "
   ]
  },
  {
   "cell_type": "code",
   "execution_count": 90,
   "id": "df23e7d9",
   "metadata": {},
   "outputs": [],
   "source": [
    "def select_features(X_train, y_train, X_val, X_test):\n",
    "    \n",
    "    # configure to select all features\n",
    "    fs = SelectKBest(score_func=f_classif, k=100)\n",
    "    # learn relationship from training data\n",
    "    fs.fit(X_train, y_train)\n",
    "    # transform train input data\n",
    "    X_train_fs = fs.transform(X_train)\n",
    "    #transform val input data\n",
    "    X_val_fs = fs.transform(X_val)\n",
    "    # transform test input data\n",
    "    X_test_fs = fs.transform(X_test)\n",
    "    return X_train_fs, X_val_fs, X_test_fs, fs"
   ]
  },
  {
   "cell_type": "code",
   "execution_count": 91,
   "id": "972b1644",
   "metadata": {},
   "outputs": [
    {
     "data": {
      "image/png": "[encoded data removed]",
      "text/plain": [
       "<Figure size 640x480 with 1 Axes>"
      ]
     },
     "metadata": {},
     "output_type": "display_data"
    }
   ],
   "source": [
    "X_train_fs, X_val_fs, X_test_fs, fs = select_features(X_train, y_train, X_val, X_test)\n",
    "plt.bar([i for i in range(len(fs.scores_))], fs.scores_)\n",
    "plt.title(\"Score selected features\")\n",
    "plt.xlabel(\"Score ANOVA\")\n",
    "plt.ylabel(\"Feature\")\n",
    "plt.show()"
   ]
  },
  {
   "cell_type": "markdown",
   "id": "a83b8795",
   "metadata": {},
   "source": [
    "From our initial dataset of 699 features, the final 100 features selected are the following ones:"
   ]
  },
  {
   "cell_type": "code",
   "execution_count": 92,
   "id": "904cbf36",
   "metadata": {},
   "outputs": [
    {
     "name": "stdout",
     "output_type": "stream",
     "text": [
      "Int64Index([ 20,  26,  27,  36,  42,  68,  73,  80,  90,  97, 100, 125, 139,\n",
      "            146, 148, 149, 150, 152, 153, 154, 160, 161, 166, 171, 177, 180,\n",
      "            186, 191, 201, 207, 214, 240, 247, 252, 255, 264, 267, 284, 296,\n",
      "            303, 304, 316, 329, 331, 349, 365, 375, 378, 380, 381, 383, 386,\n",
      "            392, 394, 425, 426, 444, 445, 449, 460, 471, 473, 475, 479, 488,\n",
      "            491, 493, 501, 503, 506, 520, 526, 534, 536, 541, 549, 555, 573,\n",
      "            574, 578, 594, 602, 603, 604, 610, 620, 626, 630, 636, 637, 639,\n",
      "            640, 646, 658, 664, 670, 673, 676, 689, 693],\n",
      "           dtype='int64')\n"
     ]
    }
   ],
   "source": [
    "print(X_train.columns[fs.get_support()])"
   ]
  },
  {
   "cell_type": "markdown",
   "id": "22643874",
   "metadata": {},
   "source": [
    "## Data visualization"
   ]
  },
  {
   "cell_type": "markdown",
   "id": "8974a3cf",
   "metadata": {},
   "source": [
    "### Frequency labels"
   ]
  },
  {
   "cell_type": "markdown",
   "id": "d2431cd7",
   "metadata": {},
   "source": [
    "To inspect the class balance of our three datasets, we can plot the labels' frequency."
   ]
  },
  {
   "cell_type": "code",
   "execution_count": 93,
   "id": "72efcfed",
   "metadata": {},
   "outputs": [],
   "source": [
    "def plot_frequency_labels(y_train, y_test, y_val):\n",
    "    \n",
    "    freq_train = np.bincount(y_train.astype(int))\n",
    "    freq_test = np.bincount(y_test.astype(int))\n",
    "    freq_val = np.bincount(y_val.astype(int))\n",
    "    \n",
    "    width = 0.3\n",
    "    \n",
    "    fig, ax = plt.subplots()\n",
    "    labels = [\"Bad\", \"Fair\", \"Good\", \"Excellent\", \"Perfect\"]\n",
    "    X_axis = np.arange(len(labels))\n",
    "    \n",
    "    ax.bar(X_axis, freq_train, width, label=\"Train\", color='blue')\n",
    "    ax.bar(X_axis+0.3, freq_val, width, label=\"Val\", color='orange')\n",
    "    ax.bar(X_axis+0.6, freq_test, width, label=\"Test\", color='green')\n",
    "    \n",
    "    ax.set_ylabel(\"Frequency\")\n",
    "    ax.set_xlabel(\"Label\")\n",
    "    ax.set_title(\"Counts by Label\")\n",
    "    ax.set_xticks(X_axis + width)\n",
    "    ax.set_xticklabels(labels)\n",
    "    ax.legend()\n",
    "    \n",
    "    plt.show()"
   ]
  },
  {
   "cell_type": "code",
   "execution_count": 94,
   "id": "235f0de6",
   "metadata": {},
   "outputs": [
    {
     "data": {
      "image/png": "[encoded data removed]",
      "text/plain": [
       "<Figure size 640x480 with 1 Axes>"
      ]
     },
     "metadata": {},
     "output_type": "display_data"
    }
   ],
   "source": [
    "plot_frequency_labels(y_train, y_test, y_val)"
   ]
  },
  {
   "cell_type": "markdown",
   "id": "31d9fb74",
   "metadata": {},
   "source": [
    "The data is clearly imbalanced since most of the documents were labeled as \"Fair\", and not many as \"Perfect\". However, this is common in real rankings since normally there are more irrelevant documents than relevant. It also depends on the person who puntuatets the document in light of the query. Therefore, we are not applying any treatment for imbalanced data."
   ]
  },
  {
   "cell_type": "markdown",
   "id": "dfe1d0ec",
   "metadata": {},
   "source": [
    "### Frequency queries with # documents"
   ]
  },
  {
   "cell_type": "markdown",
   "id": "e7f7d37c",
   "metadata": {},
   "source": [
    "Another interesting plot is the number of documents retrieved against the number of queries. "
   ]
  },
  {
   "cell_type": "code",
   "execution_count": 95,
   "id": "6af3a22b",
   "metadata": {},
   "outputs": [],
   "source": [
    "def plot_frequency_queries_doc(qid_train, qid_test, qid_val):   \n",
    "    \n",
    "    \n",
    "    # Count the frequencies for each number of documents returned\n",
    "    num_docs_counts_train = np.bincount(np.bincount(qid_train), minlength=1)[1:]\n",
    "    num_docs_counts_test = np.bincount(np.bincount(qid_test), minlength=1)[1:]\n",
    "    num_docs_counts_val = np.bincount(np.bincount(qid_val), minlength=1)[1:]\n",
    "\n",
    "    fig, axs = plt.subplots(3, 1, figsize=(8, 10))\n",
    "\n",
    "    # Plot 1\n",
    "    axs[0].bar(np.arange(len(num_docs_counts_train)),  num_docs_counts_train, color='blue')\n",
    "    axs[0].set_ylabel('Number of Documents Returned')\n",
    "    axs[0].set_xlabel('Number of Queries')\n",
    "    axs[0].set_title('Train')\n",
    "\n",
    "    # Plot 2\n",
    "    axs[1].bar(np.arange(len(num_docs_counts_val)), num_docs_counts_val, color='orange')\n",
    "    axs[1].set_ylabel('Number of Documents Returned')\n",
    "    axs[1].set_xlabel('Number of Queries')\n",
    "    axs[1].set_title('Val')\n",
    "\n",
    "    # Plot 3\n",
    "    axs[2].bar(np.arange(len(num_docs_counts_test)), num_docs_counts_test, color='green')\n",
    "    axs[2].set_ylabel('Number of Documents Returned')\n",
    "    axs[2].set_xlabel('Number of Queries')\n",
    "    axs[2].set_title('Test')\n",
    "\n",
    "    plt.tight_layout()\n",
    "    plt.show()"
   ]
  },
  {
   "cell_type": "code",
   "execution_count": 96,
   "id": "fb9db057",
   "metadata": {},
   "outputs": [
    {
     "data": {
      "image/png": "[encoded data removed]",
      "text/plain": [
       "<Figure size 800x1000 with 3 Axes>"
      ]
     },
     "metadata": {},
     "output_type": "display_data"
    }
   ],
   "source": [
    "plot_frequency_queries_doc(query_id_train,query_id_test,query_id_val)"
   ]
  },
  {
   "cell_type": "markdown",
   "id": "f6943817",
   "metadata": {},
   "source": [
    "The sets follow a similar distribution. Most queries return between 5 and 15 documents. It is rare to find a query returning 120 documents. Hence, we are going to train our model using 50 documents per query."
   ]
  },
  {
   "cell_type": "markdown",
   "id": "71c54ae7",
   "metadata": {},
   "source": [
    "### Printing statistics"
   ]
  },
  {
   "cell_type": "code",
   "execution_count": 97,
   "id": "b1e77025",
   "metadata": {},
   "outputs": [],
   "source": [
    "def stats(train, test, val):\n",
    "            \n",
    "    # Collect metrics for below stats\n",
    "    len_train = train[0].shape[0]\n",
    "    len_test = test[0].shape[0]\n",
    "    len_val = val[0].shape[0]\n",
    "    total = len_train + len_test + len_val\n",
    "        \n",
    "    # Print length of all datasets and the overal balance between the splits\n",
    "    print('*'*24 + ' ' + 'Total documents' + ' ' + '*'*24)\n",
    "    print(f'Total documents in training set: {len_train}')\n",
    "    print(f'Total documents in testing set: {len_test}')\n",
    "    print(f'Total documents in validation set: {len_val}')\n",
    "    print('='*64)\n",
    "    print(f'The training set contains {round(len_train/total, 3)}% of the total data')\n",
    "    print(f'The testing set contains {round(len_test/total, 3)}% of the total data')\n",
    "    print(f'The validation set contains {round(len_val/total, 3)}% of the total data')\n",
    "         \n",
    "    # Mapping of initial dataframes\n",
    "    dataframes = {'train': train, 'test': test, 'val': val}\n",
    "        \n",
    "    # Calculating the distribution of the relevance column\n",
    "    for k,df in dataframes.items():\n",
    "        len_docs = len(df[1])\n",
    "        relevance_counts = np.bincount(df[1].astype(int))\n",
    "        print('='*64)\n",
    "        print('*'*16 + ' ' + f'{k} Relevance Class Balance' + ' ' + '*'*16)\n",
    "        for i in [0,1,2,3,4]:\n",
    "            print(f'Rank {i}: Total Count: {relevance_counts[i]} Percentage: {round(relevance_counts[i]/len_docs,3)}')\n",
    "    print(' ')\n",
    "    "
   ]
  },
  {
   "cell_type": "code",
   "execution_count": 98,
   "id": "c853ed32",
   "metadata": {},
   "outputs": [
    {
     "name": "stdout",
     "output_type": "stream",
     "text": [
      "************************ Total documents ************************\n",
      "Total documents in training set: 473134\n",
      "Total documents in testing set: 165660\n",
      "Total documents in validation set: 71083\n",
      "================================================================\n",
      "The training set contains 0.667% of the total data\n",
      "The testing set contains 0.233% of the total data\n",
      "The validation set contains 0.1% of the total data\n",
      "================================================================\n",
      "**************** train Relevance Class Balance ****************\n",
      "Rank 0: Total Count: 123294 Percentage: 0.261\n",
      "Rank 1: Total Count: 169897 Percentage: 0.359\n",
      "Rank 2: Total Count: 134832 Percentage: 0.285\n",
      "Rank 3: Total Count: 36170 Percentage: 0.076\n",
      "Rank 4: Total Count: 8941 Percentage: 0.019\n",
      "================================================================\n",
      "**************** test Relevance Class Balance ****************\n",
      "Rank 0: Total Count: 42625 Percentage: 0.257\n",
      "Rank 1: Total Count: 59107 Percentage: 0.357\n",
      "Rank 2: Total Count: 48033 Percentage: 0.29\n",
      "Rank 3: Total Count: 12804 Percentage: 0.077\n",
      "Rank 4: Total Count: 3091 Percentage: 0.019\n",
      "================================================================\n",
      "**************** val Relevance Class Balance ****************\n",
      "Rank 0: Total Count: 19273 Percentage: 0.271\n",
      "Rank 1: Total Count: 25106 Percentage: 0.353\n",
      "Rank 2: Total Count: 19835 Percentage: 0.279\n",
      "Rank 3: Total Count: 5499 Percentage: 0.077\n",
      "Rank 4: Total Count: 1370 Percentage: 0.019\n",
      " \n"
     ]
    }
   ],
   "source": [
    "train = [X_train_fs, y_train, query_id_train]\n",
    "test = [X_test_fs, y_test, query_id_test]\n",
    "val = [X_val_fs, y_val, query_id_val]\n",
    "\n",
    "stats(train, test, val)"
   ]
  },
  {
   "cell_type": "code",
   "execution_count": 16,
   "id": "c5ebf87e",
   "metadata": {},
   "outputs": [],
   "source": [
    "#train = [X_train, y_train, query_id_train]\n",
    "#test = [X_test, y_test, query_id_test]\n",
    "#val = [X_val, y_val, query_id_val]"
   ]
  },
  {
   "cell_type": "markdown",
   "id": "de36f383",
   "metadata": {},
   "source": [
    "## Save as tfrecords"
   ]
  },
  {
   "cell_type": "markdown",
   "id": "892e4290",
   "metadata": {},
   "source": [
    "Finally, it is necessary to save the data in a specific format known as ELWC if we want to train a neural GAM model. It is one of the accepted formats of tensorflow ranking library."
   ]
  },
  {
   "cell_type": "code",
   "execution_count": 99,
   "id": "607f03e1",
   "metadata": {},
   "outputs": [],
   "source": [
    "class Parser_libSVM_tfrecord():\n",
    "    \n",
    "    def __init__(self, data=[], tfrecord_path=' ', labels = []):\n",
    "        \n",
    "        self.data = data\n",
    "        self.tfrecord_path = tfrecord_path\n",
    "        self.labels = labels\n",
    "        \n",
    "        if not os.path.isdir(self.tfrecord_path):\n",
    "            os.makedirs(self.tfrecord_path)\n",
    "            \n",
    "    def _float_feature(self, value):\n",
    "        \"\"\"Returns a float_list from a float / double.\"\"\"\n",
    "        return tf.train.Feature(float_list=tf.train.FloatList(value=[value]))\n",
    "\n",
    "    def _int64_feature(self, value):\n",
    "        \"\"\"Returns an int64_list from a bool / enum / int / uint.\"\"\"\n",
    "        return tf.train.Feature(int64_list=tf.train.Int64List(value=[value]))\n",
    "    \n",
    "    def create_tfrecord(self, data, tfrecord_path):\n",
    "\n",
    "        options_ = tf.io.TFRecordOptions(compression_type='GZIP')\n",
    "        with tf.io.TFRecordWriter(tfrecord_path) as writer:\n",
    "\n",
    "            # Create Example list \n",
    "            elwc = input_pb2.ExampleListWithContext()\n",
    "            # Save the last query id for filtering\n",
    "            last_query_id = None\n",
    "            \n",
    "            #for each sample\n",
    "            for row in range(data.shape[0]):\n",
    "                # Select data from each row\n",
    "                relevance_label, query_id, features = data[row,0],data[row,1],data[row,2:]\n",
    "                # Create Example Dict\n",
    "                example_dict = {\n",
    "                   f'{feat_name}':self._float_feature(feat_val) for feat_name, feat_val in zip(self.labels, features)\n",
    "                }\n",
    "                example_dict['relevance_label'] = self._int64_feature(int(relevance_label))\n",
    "                # Create Features\n",
    "                example_ = tf.train.Example(features=tf.train.Features(\n",
    "                                                         feature=example_dict)\n",
    "                                     )\n",
    "                # Create ELWC by query id\n",
    "                if query_id != last_query_id:\n",
    "                    if last_query_id != None:\n",
    "                        writer.write(elwc.SerializeToString())\n",
    "                    last_query_id = query_id\n",
    "                    elwc = input_pb2.ExampleListWithContext()\n",
    "                    elwc.examples.append(example_)\n",
    "                else:\n",
    "                    elwc.examples.append(example_)\n",
    "            # Writing the final query\n",
    "            writer.write(elwc.SerializeToString())\n",
    "            \n",
    "    def load_and_convert_data(self):\n",
    "        # Concatenate data into one array\n",
    "        # each row represents a doc, and the columns contain the label, query ID, and features\n",
    "        for label, dataset in data.items():\n",
    "            \n",
    "            expanded_data = np.concatenate((np.expand_dims(dataset[1], axis=1), \n",
    "                                        np.expand_dims(dataset[2], axis=1), \n",
    "                                        dataset[0].toarray()), axis=1)\n",
    "                                        #dataset[0].to_numpy()), axis=1)\n",
    "            tfrecord_path = f'{self.tfrecord_path}/{label}.tfrecord' \n",
    "            self.create_tfrecord(expanded_data, tfrecord_path) #call function to transform into tfrecord"
   ]
  },
  {
   "cell_type": "code",
   "execution_count": 27,
   "id": "8cac1717-ced9-43d0-9c55-5f32bb887807",
   "metadata": {},
   "outputs": [],
   "source": [
    "def _float_feature(value):\n",
    "    \"\"\"Converts a numerical value into a TensorFlow Feature object of type FloatList\"\"\"\n",
    "    return tf.train.Feature(float_list=tf.train.FloatList(value=[value]))\n",
    "\n",
    "def _int64_feature(value):\n",
    "    \"\"\"Converts a numerical value into a TensorFlow Feature object of type Int64List\"\"\"\n",
    "    return tf.train.Feature(int64_list=tf.train.Int64List(value=[value]))\n",
    "\n",
    "def serialize_all(examples):\n",
    "    \"\"\"Converts a dataframe of documents into a list of TensorFlow Example\"\"\"\n",
    "    list_examples = []\n",
    "    for idx, row in examples.iterrows():\n",
    "        example_dict = {\n",
    "            f'{feat_name}': _float_feature(feat_val) for\n",
    "            feat_name, feat_val in zip(_name_features, row.iloc[2:].tolist())\n",
    "        }\n",
    "\n",
    "        example_dict['relevance_label'] = _int64_feature(int(row['relevance_label']))\n",
    "\n",
    "        example_proto = tf.train.Example(features=tf.train.Features(feature=example_dict))\n",
    "        list_examples.append(example_proto.SerializeToString())\n",
    "\n",
    "    return list_examples"
   ]
  },
  {
   "cell_type": "code",
   "execution_count": 101,
   "id": "836c3dea",
   "metadata": {},
   "outputs": [],
   "source": [
    "data = {'train':train, 'test':test, 'val':val}\n",
    "\n",
    "yahoo_labels = [\"%d\" % (i + 1) for i in range(0, 100)]\n",
    "\n",
    "parser = Parser_libSVM_tfrecord(data=data, tfrecord_path='tf_records/', labels = yahoo_labels)\n",
    "parser.load_and_convert_data()"
   ]
  },
  {
   "cell_type": "markdown",
   "id": "8026f900",
   "metadata": {},
   "source": [
    "## Save test data as CSV"
   ]
  },
  {
   "cell_type": "markdown",
   "id": "4b556821",
   "metadata": {},
   "source": [
    "We also save the test data as a csv because we will need it later when we want to use LIME to generate explanations."
   ]
  },
  {
   "cell_type": "markdown",
   "id": "c8f9ef23-76e4-4609-b3f1-835efbbf4e00",
   "metadata": {},
   "source": [
    "final_df = pd.DataFrame.sparse.from_spmatrix(test[0], columns = yahoo_labels)\n",
    "final_df.insert(0, 'qid', test[2])\n",
    "final_df.insert(1, 'relevance_label', test[1])\n",
    "display(final_df.head())\n",
    "final_df.to_csv('test_yahoo.csv', index=False)"
   ]
  },
  {
   "cell_type": "code",
   "execution_count": 77,
   "id": "66f51f92",
   "metadata": {},
   "outputs": [
    {
     "name": "stderr",
     "output_type": "stream",
     "text": [
      "/tmp/ipykernel_307527/3751380481.py:1: FutureWarning: The behavior of .astype from SparseDtype to a non-sparse dtype is deprecated. In a future version, this will return a non-sparse array with the requested dtype. To retain the old behavior, use `obj.astype(SparseDtype(dtype))`\n",
      "  final_df.to_csv('test_yahoo.csv', index=False)\n"
     ]
    }
   ],
   "source": []
  },
  {
   "cell_type": "code",
   "execution_count": 23,
   "id": "ba09b5d8-7471-4bdb-b4fb-957f948af808",
   "metadata": {},
   "outputs": [],
   "source": [
    "final_df = pd.read_csv('test_yahoo.csv')"
   ]
  },
  {
   "cell_type": "code",
   "execution_count": 4,
   "id": "6acd9751-2eb7-4142-9c5c-ae991d88f96d",
   "metadata": {},
   "outputs": [],
   "source": [
    "_model_yahoo = \"./model/\"\n",
    "#_test_yahoo = \"/datasets/yahoo/test_yahoo.csv\"\n",
    "\n",
    "#_name_features = [str(i + 1) for i in range(0, 100)]\n",
    "\n",
    "_loaded_model = tf.saved_model.load(_model_yahoo)"
   ]
  },
  {
   "cell_type": "code",
   "execution_count": 5,
   "id": "477a0a94-cb6a-4ddb-a3c0-15186c18979b",
   "metadata": {},
   "outputs": [],
   "source": [
    "def predict_GAM(instances):\n",
    "    \"\"\"Predicts the documents' ranking scores using the ranking model\n",
    "\n",
    "    Args:\n",
    "        instances: pandas series of documents returned by a specific query\n",
    "        idx: index (integer) of the document to explain in instances\n",
    "    Returns:\n",
    "        A list of scores (float) of equal length as instances\n",
    "    \"\"\"\n",
    "    instances = serialize_all(instances)\n",
    "    tf_example_predictor = _loaded_model.signatures['predict']\n",
    "    scores = tf_example_predictor(tf.convert_to_tensor(instances))['output']\n",
    "    return scores.numpy().flatten()"
   ]
  },
  {
   "cell_type": "code",
   "execution_count": 6,
   "id": "d447da9c-e9b9-4f3b-99ca-e6e76ae1b3fe",
   "metadata": {},
   "outputs": [],
   "source": [
    "qids = [28587, 23068, 28700, 24240, 23890, 28483, 23132, 29379, 23022, 24923, 25000, 29889, 25191, 25207, 25226,\n",
    "            28035, 28203, 28670, 28286, 28276]"
   ]
  },
  {
   "cell_type": "code",
   "execution_count": 24,
   "id": "ad4439fb-3a6b-4f41-98b7-581569bdff97",
   "metadata": {},
   "outputs": [],
   "source": [
    "#instances = final_df[final_df['qid'] == 28587].iloc[:, 2:].values\n",
    "grouped_qid = final_df.groupby('qid')\n",
    "grouped_data = grouped_qid.get_group(qids[0])"
   ]
  },
  {
   "cell_type": "code",
   "execution_count": 25,
   "id": "9139a760-4e3d-4bf4-b27f-8ff2a4524ca5",
   "metadata": {},
   "outputs": [],
   "source": [
    "_name_features = [str(i + 1) for i in range(0, 100)]"
   ]
  },
  {
   "cell_type": "code",
   "execution_count": 29,
   "id": "4c4a762e-55db-44da-8197-25621ee23cc4",
   "metadata": {},
   "outputs": [
    {
     "data": {
      "text/plain": [
       "<generator object DataFrame.iterrows at 0x7f3118d6ef20>"
      ]
     },
     "execution_count": 29,
     "metadata": {},
     "output_type": "execute_result"
    }
   ],
   "source": []
  },
  {
   "cell_type": "code",
   "execution_count": 31,
   "id": "c4acb3d9-0892-4c67-8b55-60820ed9805c",
   "metadata": {},
   "outputs": [],
   "source": [
    "#docs = serialize_all(grouped_data)\n",
    "per = predict_GAM(grouped_data)"
   ]
  },
  {
   "cell_type": "code",
   "execution_count": 32,
   "id": "7d8e63c0-f654-4454-a660-2dfcb2c344a0",
   "metadata": {},
   "outputs": [],
   "source": [
    "background = grouped_data.drop(columns=['qid', 'relevance_label']).values"
   ]
  },
  {
   "cell_type": "code",
   "execution_count": 33,
   "id": "f6529921-8e6a-4e93-a48f-7cedb255f0ff",
   "metadata": {},
   "outputs": [],
   "source": [
    "from lirme import LIRME\n",
    "lirme = LIRME(background)\n",
    "e_sample_size = 4000"
   ]
  },
  {
   "cell_type": "code",
   "execution_count": 34,
   "id": "c9ba0d42-d9e6-4bfe-bc2c-378efd49cdf1",
   "metadata": {},
   "outputs": [],
   "source": [
    "def random_exp(size):\n",
    "    return np.random.dirichlet(np.ones(size), size=1).flatten()"
   ]
  },
  {
   "cell_type": "code",
   "execution_count": 96,
   "id": "4eeb2d2f-824c-438a-850d-0bea4b379c87",
   "metadata": {},
   "outputs": [],
   "source": [
    "pointwise_exps = ['lirme', 'exs_top_k', 'exs_score', 'exs_regression', 'lime', 'shap', 'random']"
   ]
  },
  {
   "cell_type": "code",
   "execution_count": 58,
   "id": "5a43750f-991a-40ed-8398-1422dfae616d",
   "metadata": {},
   "outputs": [],
   "source": [
    "import re\n",
    "def transform_lime_exp(exp, features):\n",
    "    transform_exp = np.zeros(len(features))\n",
    "\n",
    "    for i in range(len(exp)):\n",
    "        feature_idx = np.array(find_feature_idx(exp[i][0]))\n",
    "        transform_exp[feature_idx] = exp[i][1]\n",
    "    \n",
    "    return transform_exp\n",
    "\n",
    "\n",
    "def find_feature_idx(feature_rule):\n",
    "    res = re.findall(r'feature_id_(\\d+)', feature_rule)\n",
    "    if len(res) > 0:\n",
    "        return int(res[0])\n",
    "\n",
    "    \n",
    "def transform_lime_exp(exp, features):\n",
    "    transform_exp = np.zeros(len(features))\n",
    "\n",
    "    for i in range(len(exp)):\n",
    "        feature_idx = np.array(find_feature_idx(exp[i][0]))\n",
    "        transform_exp[feature_idx] = exp[i][1]\n",
    "    \n",
    "    return transform_exp\n",
    "\n",
    "\n",
    "def shap_exp(instances, train_data, pred_fn, sample_size):\n",
    "    sample_size_background = 100\n",
    "    s = shap.sample(train_data, sample_size_background)\n",
    "    explainer = shap.KernelExplainer(pred_fn, s)\n",
    "    shap_exps = explainer.shap_values(instances, nsamples=sample_size)\n",
    "    \n",
    "    return shap_exps\n",
    "\n",
    "def random_exp(size):\n",
    "    return np.random.dirichlet(np.ones(size), size=1).flatten()\n",
    "\n",
    "\n",
    "def exp_pred_fn(instance):\n",
    "    _name_features = [str(i + 1) for i in range(0, 100)]\n",
    "    new_sample = pd.DataFrame(instance, columns=_name_features)\n",
    "    new_sample.insert(0,'relevance_label', np.repeat(0, instance.shape[0]))\n",
    "    \n",
    "    return predict_GAM(new_sample)\n",
    "    \n",
    "\n",
    "def lime_exp(instance, pred_fn, train_data, sample_size):\n",
    "    feature_names = ['feature_id_' + str(i) for i in np.arange(train_data.shape[1])]\n",
    "    lime_exp = lime_tabular.LimeTabularExplainer(train_data[:2000], \n",
    "                                             kernel_width=3, verbose=False, mode='regression',\n",
    "                                             feature_names=feature_names)\n",
    "\n",
    "    exp = lime_exp.explain_instance(instance, pred_fn, num_features=train_data.shape[1],  \n",
    "                                    num_samples=sample_size)\n",
    "    lime_e = exp.as_list()\n",
    "    lime_e_trans = transform_lime_exp(lime_e, feature_names)\n",
    "    \n",
    "    return lime_e_trans"
   ]
  },
  {
   "cell_type": "code",
   "execution_count": 97,
   "id": "60d1cbb9-c087-4dd7-adc3-37ecb65c8eef",
   "metadata": {},
   "outputs": [
    {
     "data": {
      "text/plain": [
       "4000"
      ]
     },
     "execution_count": 97,
     "metadata": {},
     "output_type": "execute_result"
    }
   ],
   "source": [
    "e_sample_size"
   ]
  },
  {
   "cell_type": "code",
   "execution_count": 102,
   "id": "ff1efd80-e7b8-430e-aa1d-ab76e4b104d3",
   "metadata": {},
   "outputs": [
    {
     "name": "stdout",
     "output_type": "stream",
     "text": [
      "Document explanations for query 28587\n",
      "Document explanations for query 23068\n",
      "Document explanations for query 28700\n",
      "Document explanations for query 24240\n",
      "Document explanations for query 23890\n",
      "Document explanations for query 28483\n",
      "Document explanations for query 23132\n",
      "Document explanations for query 29379\n",
      "Document explanations for query 23022\n",
      "Document explanations for query 24923\n",
      "Document explanations for query 25000\n",
      "Document explanations for query 29889\n",
      "Document explanations for query 25191\n",
      "Document explanations for query 25207\n",
      "Document explanations for query 25226\n",
      "Document explanations for query 28035\n",
      "Document explanations for query 28203\n",
      "Document explanations for query 28670\n",
      "Document explanations for query 28286\n",
      "Document explanations for query 28276\n"
     ]
    }
   ],
   "source": [
    "import pickle \n",
    "from lime import lime_tabular\n",
    "import shap\n",
    "\n",
    "e_sample_size = 3000\n",
    "p_exps = {}\n",
    "\n",
    "for key in qids:\n",
    "    print('Document explanations for query', key)\n",
    "    p_exps[key] = {}\n",
    "    for t in pointwise_exps:\n",
    "        p_exps[key][t] = {}\n",
    "    \n",
    "    grouped_data = grouped_qid.get_group(key)\n",
    "    \n",
    "    pred_q_docs = predict_GAM(grouped_data)\n",
    "    \n",
    "    base_rank = np.argsort(pred_q_docs)[::-1]\n",
    "    explained_instance_idx = np.argwhere(base_rank == 10)[0][0]\n",
    "\n",
    "    #instance =  grouped_data.iloc[explained_instance_idx, 1:]\n",
    "    instance =  grouped_data.iloc[explained_instance_idx, 2:]\n",
    "    \n",
    "    l_exp = lime_exp(instance, exp_pred_fn, background, sample_size=e_sample_size)\n",
    "    p_exps[key]['lime'] = l_exp\n",
    "    \n",
    "    s_exp = shap_exp(instance, background, exp_pred_fn, sample_size=e_sample_size)\n",
    "    p_exps[key]['shap'] = s_exp\n",
    "    \n",
    "    instance =  grouped_data.iloc[explained_instance_idx, 1:]\n",
    "    \n",
    "    exp_lirme = lirme.explain(instance, predict_GAM, pred_q_docs, \n",
    "                sur_type='ridge', label_type='regression', \n",
    "                instance_idx=explained_instance_idx, top_rank=5, sample_size=e_sample_size)\n",
    "    p_exps[key]['lirme'] = exp_lirme\n",
    "\n",
    "    exp_exs_v1 = lirme.explain(instance, predict_GAM, pred_q_docs, \n",
    "                sur_type='svm', label_type='top_k_binary', \n",
    "                instance_idx=explained_instance_idx, top_rank=5, sample_size=e_sample_size)\n",
    "    p_exps[key]['exs_top_k'] = exp_exs_v1\n",
    "\n",
    "    exp_exs_v2 = lirme.explain(instance, predict_GAM, pred_q_docs, \n",
    "                sur_type='svm', label_type='score', \n",
    "                instance_idx=explained_instance_idx, top_rank=5, sample_size=e_sample_size)\n",
    "    p_exps[key]['exs_score'] = exp_exs_v2\n",
    "\n",
    "    exp_exs_v3 = lirme.explain(instance, predict_GAM, pred_q_docs, \n",
    "                sur_type='svm', label_type='regression', \n",
    "                instance_idx=explained_instance_idx, top_rank=5, sample_size=e_sample_size)\n",
    "    p_exps[key]['exs_regression'] = exp_exs_v3\n",
    "\n",
    "    p_exps[key]['random'] = random_exp(instance.shape[0] - 1)\n",
    "\n",
    "pickle.dump(p_exps, open( \"./p_exps_{}.p\".format(e_sample_size), \"wb\" ) )"
   ]
  },
  {
   "cell_type": "code",
   "execution_count": 60,
   "id": "41b68ad1-7e70-46bf-adf5-9fc61a05c0d9",
   "metadata": {},
   "outputs": [],
   "source": [
    "def subscores_GAM(instances, idx):\n",
    "    \"\"\"Explains the position of a document in the ranking\n",
    "    using the interpretable ranking model\n",
    "\n",
    "    Args:\n",
    "        instances: pandas series of documents returned by a specific query\n",
    "        idx: index (integer) of the document to explain in instances\n",
    "    Returns:\n",
    "        A list of subscores (float) of length number_features\n",
    "    \"\"\"\n",
    "    acum_subscores = []\n",
    "    tensors = tf.convert_to_tensor(instances)\n",
    "    for fea in _name_features:\n",
    "        tf_predictor = _loaded_model.signatures[fea + '_subscore']\n",
    "        subscores = tf_predictor(tensors)\n",
    "        acum_subscores.append(subscores['outputs'][idx])\n",
    "    return tf.stack(acum_subscores).numpy().flatten()"
   ]
  },
  {
   "cell_type": "code",
   "execution_count": 64,
   "id": "a8ff3ab5-6c79-421d-a504-89f3f24f9bdf",
   "metadata": {},
   "outputs": [],
   "source": [
    "ground_truth = []\n",
    "\n",
    "for key in qids:    \n",
    "    grouped_data = grouped_qid.get_group(key)\n",
    "    \n",
    "    pred_q_docs = predict_GAM(grouped_data)\n",
    "    \n",
    "    base_rank = np.argsort(pred_q_docs)[::-1]\n",
    "    explained_instance_idx = np.argwhere(base_rank == 10)[0][0]\n",
    "\n",
    "    instance =  grouped_data.iloc[explained_instance_idx, 1:]\n",
    "    \n",
    "    serialized = serialize_all(grouped_data)\n",
    "    subscore = subscores_GAM(serialized, explained_instance_idx)\n",
    "    ground_truth.append(subscore)"
   ]
  },
  {
   "cell_type": "code",
   "execution_count": 65,
   "id": "1a360cf5-4eb6-4915-9c16-2d2ca3b5f124",
   "metadata": {},
   "outputs": [
    {
     "data": {
      "image/png": "[encoded data removed]",
      "text/plain": [
       "<Figure size 640x480 with 2 Axes>"
      ]
     },
     "metadata": {},
     "output_type": "display_data"
    }
   ],
   "source": [
    "import seaborn as sns\n",
    "sns.heatmap(ground_truth)\n",
    "plt.xlabel('Features')\n",
    "plt.ylabel('Instances')\n",
    "plt.show()"
   ]
  },
  {
   "cell_type": "code",
   "execution_count": 66,
   "id": "f1d60a68-b465-4bcd-a712-3aaf2bf85070",
   "metadata": {},
   "outputs": [],
   "source": [
    "from scipy.stats import rankdata"
   ]
  },
  {
   "cell_type": "code",
   "execution_count": 67,
   "id": "7e09d760-ba2d-42e5-a5e2-c4cb79994492",
   "metadata": {},
   "outputs": [],
   "source": [
    "def calculate_metrics(gam_explanations, lime_explanations, k_top):\n",
    "    \"\"\"Calculates the rbo and the overlap metrics for two set of explanations\n",
    "\n",
    "    Args:\n",
    "        gam_explanations: ndarray of subscores from GAM model\n",
    "        lime_explanations: ndarray of subscores from LIME\n",
    "    Returns:\n",
    "       rbo (float) and overlap list (floats)\n",
    "    \"\"\"\n",
    "\n",
    "    ranked_GAM = rankdata([-1 * i for i in gam_explanations]).astype(int) - 1\n",
    "    ranked_LIME = rankdata([-1 * i for i in lime_explanations]).astype(int) - 1\n",
    "    rbo_metric = rbo(ranked_GAM, ranked_LIME, k_top)\n",
    "    overlap_metric = iter_overlap(ranked_GAM, ranked_LIME)\n",
    "    return rbo_metric, overlap_metric"
   ]
  },
  {
   "cell_type": "code",
   "execution_count": 68,
   "id": "db41a0a0-edd3-4134-b103-5dabe5dc80b2",
   "metadata": {},
   "outputs": [],
   "source": [
    "import math"
   ]
  },
  {
   "cell_type": "code",
   "execution_count": 69,
   "id": "2fc75b8b-0466-4401-ae2f-b159f8b2087f",
   "metadata": {},
   "outputs": [],
   "source": [
    "def rbo(list1, list2, p=0.9):\n",
    "    \"\"\"Calculates the rbo score for two equal sized ranks\n",
    "\n",
    "    Args:\n",
    "        list1: list of ranked values (integers)\n",
    "        list2: list of ranked values (integers). Same length as list1\n",
    "        p: weight assigned to items at different positions in the ranked lists, ranges [0,1]\n",
    "    Returns:\n",
    "       rbo (float)\n",
    "    \"\"\"\n",
    "    # tail recursive helper function\n",
    "    def helper(ret, i, d):\n",
    "        l1 = set(list1[:i]) if i < len(list1) else set(list1)\n",
    "        l2 = set(list2[:i]) if i < len(list2) else set(list2)\n",
    "        a_d = len(l1.intersection(l2)) / i\n",
    "        term = math.pow(p, i) * a_d\n",
    "        if d == i:\n",
    "            return ret + term\n",
    "        return helper(ret + term, i + 1, d)\n",
    "\n",
    "    k = max(len(list1), len(list2))\n",
    "    x_k = len(set(list1).intersection(set(list2)))\n",
    "    summation = helper(0, 1, k)\n",
    "\n",
    "    return ((float(x_k) / k) * math.pow(p, k)) + ((1 - p) / p * summation)\n",
    "\n",
    "def iter_overlap(list1, list2):\n",
    "    \"\"\"Calculates the % of overlap for two equal sized lists of ranked values in incremental sets\n",
    "    of five, from 0 to number features\n",
    "\n",
    "    Args:\n",
    "        list1: list of ranked values (integers)\n",
    "        list2: list of ranked values (integers). Same length as list1\n",
    "    Returns:\n",
    "       List of floats\n",
    "    \"\"\"\n",
    "    list_overlap = []\n",
    "    for x in range(5, len(_name_features) + 5, 5):\n",
    "        included_values = [i for i in range(x)]\n",
    "        indices1 = np.where(np.isin(list1, included_values))[0]\n",
    "        indices2 = np.where(np.isin(list2, included_values))[0]\n",
    "        inter = np.size(np.intersect1d(indices1, indices2))\n",
    "        list_overlap.append(inter / x)\n",
    "    return list_overlap"
   ]
  },
  {
   "cell_type": "code",
   "execution_count": 121,
   "id": "12cf579c-f282-4d3b-9c24-9eb2953cd08d",
   "metadata": {},
   "outputs": [],
   "source": [
    "#p_exps = pickle.load( open( \"p_exps_3000.p\", \"rb\" ) )"
   ]
  },
  {
   "cell_type": "code",
   "execution_count": 127,
   "id": "0722166c-a3bf-475a-8676-f534737eaa5b",
   "metadata": {},
   "outputs": [],
   "source": [
    "from scipy.stats import kendalltau"
   ]
  },
  {
   "cell_type": "code",
   "execution_count": 180,
   "id": "2b59adc7-f9a9-4459-bfbe-b1795bd2d264",
   "metadata": {},
   "outputs": [],
   "source": [
    "eval_met = {}\n",
    "\n",
    "for s_size in [1000, 3000, 4000]: \n",
    "    eval_met[s_size] = {}\n",
    "    p_exps = pickle.load( open( \"p_exps_{}.p\".format(s_size), \"rb\" ) )\n",
    "    for e in pointwise_exps:\n",
    "        eval_met[s_size][e] = {}\n",
    "        temp_rbo = []\n",
    "        temp_over = []\n",
    "        corr = []\n",
    "        for i in range(len(qids)):\n",
    "            q_ex = qids[i]\n",
    "            rbo_, over_ = calculate_metrics(ground_truth[i], p_exps[q_ex][e], 0.95)\n",
    "            corr.append(kendalltau(np.abs(ground_truth[i]), np.abs(p_exps[q_ex][e])).correlation)\n",
    "            temp_rbo.append(rbo_)\n",
    "            temp_over.append(over_)\n",
    "\n",
    "        eval_met[s_size][e]['rbo'] = np.mean(temp_rbo).round(3)\n",
    "        eval_met[s_size][e]['overlap'] = np.mean(temp_over).round(3)\n",
    "        eval_met[s_size][e]['tau similarity'] = np.nanmean(corr).round(3)"
   ]
  },
  {
   "cell_type": "code",
   "execution_count": 228,
   "id": "01d984f3-b47c-4a9a-96f2-fa6d17303805",
   "metadata": {},
   "outputs": [
    {
     "data": {
      "text/html": [
       "<div>\n",
       "<style scoped>\n",
       "    .dataframe tbody tr th:only-of-type {\n",
       "        vertical-align: middle;\n",
       "    }\n",
       "\n",
       "    .dataframe tbody tr th {\n",
       "        vertical-align: top;\n",
       "    }\n",
       "\n",
       "    .dataframe thead th {\n",
       "        text-align: right;\n",
       "    }\n",
       "</style>\n",
       "<table border=\"1\" class=\"dataframe\">\n",
       "  <thead>\n",
       "    <tr style=\"text-align: right;\">\n",
       "      <th></th>\n",
       "      <th>lirme</th>\n",
       "      <th>exs_top_k</th>\n",
       "      <th>exs_score</th>\n",
       "      <th>exs_regression</th>\n",
       "      <th>lime</th>\n",
       "      <th>shap</th>\n",
       "      <th>random</th>\n",
       "    </tr>\n",
       "  </thead>\n",
       "  <tbody>\n",
       "    <tr>\n",
       "      <th>rbo</th>\n",
       "      <td>0.198</td>\n",
       "      <td>0.112</td>\n",
       "      <td>0.194</td>\n",
       "      <td>0.205</td>\n",
       "      <td>0.209</td>\n",
       "      <td>0.193</td>\n",
       "      <td>0.192</td>\n",
       "    </tr>\n",
       "    <tr>\n",
       "      <th>overlap</th>\n",
       "      <td>0.537</td>\n",
       "      <td>0.544</td>\n",
       "      <td>0.538</td>\n",
       "      <td>0.533</td>\n",
       "      <td>0.589</td>\n",
       "      <td>0.593</td>\n",
       "      <td>0.533</td>\n",
       "    </tr>\n",
       "    <tr>\n",
       "      <th>tau similarity</th>\n",
       "      <td>0.028</td>\n",
       "      <td>0.027</td>\n",
       "      <td>0.022</td>\n",
       "      <td>0.018</td>\n",
       "      <td>0.092</td>\n",
       "      <td>0.058</td>\n",
       "      <td>-0.000</td>\n",
       "    </tr>\n",
       "  </tbody>\n",
       "</table>\n",
       "</div>"
      ],
      "text/plain": [
       "                lirme  exs_top_k  exs_score  exs_regression   lime   shap  \\\n",
       "rbo             0.198      0.112      0.194           0.205  0.209  0.193   \n",
       "overlap         0.537      0.544      0.538           0.533  0.589  0.593   \n",
       "tau similarity  0.028      0.027      0.022           0.018  0.092  0.058   \n",
       "\n",
       "                random  \n",
       "rbo              0.192  \n",
       "overlap          0.533  \n",
       "tau similarity  -0.000  "
      ]
     },
     "execution_count": 228,
     "metadata": {},
     "output_type": "execute_result"
    }
   ],
   "source": [
    "pd.DataFrame(eval_met[1000])"
   ]
  },
  {
   "cell_type": "code",
   "execution_count": 230,
   "id": "bba92ec1-cd15-4fe7-ac05-c71d38a5f3a6",
   "metadata": {},
   "outputs": [
    {
     "data": {
      "text/html": [
       "<div>\n",
       "<style scoped>\n",
       "    .dataframe tbody tr th:only-of-type {\n",
       "        vertical-align: middle;\n",
       "    }\n",
       "\n",
       "    .dataframe tbody tr th {\n",
       "        vertical-align: top;\n",
       "    }\n",
       "\n",
       "    .dataframe thead th {\n",
       "        text-align: right;\n",
       "    }\n",
       "</style>\n",
       "<table border=\"1\" class=\"dataframe\">\n",
       "  <thead>\n",
       "    <tr style=\"text-align: right;\">\n",
       "      <th></th>\n",
       "      <th>lirme</th>\n",
       "      <th>exs_top_k</th>\n",
       "      <th>exs_score</th>\n",
       "      <th>exs_regression</th>\n",
       "      <th>lime</th>\n",
       "      <th>shap</th>\n",
       "      <th>random</th>\n",
       "    </tr>\n",
       "  </thead>\n",
       "  <tbody>\n",
       "    <tr>\n",
       "      <th>rbo</th>\n",
       "      <td>0.192</td>\n",
       "      <td>0.135</td>\n",
       "      <td>0.191</td>\n",
       "      <td>0.209</td>\n",
       "      <td>0.211</td>\n",
       "      <td>0.193</td>\n",
       "      <td>0.200</td>\n",
       "    </tr>\n",
       "    <tr>\n",
       "      <th>overlap</th>\n",
       "      <td>0.537</td>\n",
       "      <td>0.544</td>\n",
       "      <td>0.546</td>\n",
       "      <td>0.534</td>\n",
       "      <td>0.596</td>\n",
       "      <td>0.593</td>\n",
       "      <td>0.523</td>\n",
       "    </tr>\n",
       "    <tr>\n",
       "      <th>tau similarity</th>\n",
       "      <td>0.034</td>\n",
       "      <td>0.019</td>\n",
       "      <td>0.035</td>\n",
       "      <td>0.036</td>\n",
       "      <td>0.087</td>\n",
       "      <td>0.058</td>\n",
       "      <td>-0.038</td>\n",
       "    </tr>\n",
       "  </tbody>\n",
       "</table>\n",
       "</div>"
      ],
      "text/plain": [
       "                lirme  exs_top_k  exs_score  exs_regression   lime   shap  \\\n",
       "rbo             0.192      0.135      0.191           0.209  0.211  0.193   \n",
       "overlap         0.537      0.544      0.546           0.534  0.596  0.593   \n",
       "tau similarity  0.034      0.019      0.035           0.036  0.087  0.058   \n",
       "\n",
       "                random  \n",
       "rbo              0.200  \n",
       "overlap          0.523  \n",
       "tau similarity  -0.038  "
      ]
     },
     "execution_count": 230,
     "metadata": {},
     "output_type": "execute_result"
    }
   ],
   "source": [
    "pd.DataFrame(eval_met[3000])"
   ]
  },
  {
   "cell_type": "code",
   "execution_count": 231,
   "id": "af514b71-95e0-4c4f-a9a6-a03cebf25b5a",
   "metadata": {},
   "outputs": [
    {
     "data": {
      "text/html": [
       "<div>\n",
       "<style scoped>\n",
       "    .dataframe tbody tr th:only-of-type {\n",
       "        vertical-align: middle;\n",
       "    }\n",
       "\n",
       "    .dataframe tbody tr th {\n",
       "        vertical-align: top;\n",
       "    }\n",
       "\n",
       "    .dataframe thead th {\n",
       "        text-align: right;\n",
       "    }\n",
       "</style>\n",
       "<table border=\"1\" class=\"dataframe\">\n",
       "  <thead>\n",
       "    <tr style=\"text-align: right;\">\n",
       "      <th></th>\n",
       "      <th>lirme</th>\n",
       "      <th>exs_top_k</th>\n",
       "      <th>exs_score</th>\n",
       "      <th>exs_regression</th>\n",
       "      <th>lime</th>\n",
       "      <th>shap</th>\n",
       "      <th>random</th>\n",
       "    </tr>\n",
       "  </thead>\n",
       "  <tbody>\n",
       "    <tr>\n",
       "      <th>rbo</th>\n",
       "      <td>0.191</td>\n",
       "      <td>0.120</td>\n",
       "      <td>0.183</td>\n",
       "      <td>0.209</td>\n",
       "      <td>0.177</td>\n",
       "      <td>0.193</td>\n",
       "      <td>0.209</td>\n",
       "    </tr>\n",
       "    <tr>\n",
       "      <th>overlap</th>\n",
       "      <td>0.536</td>\n",
       "      <td>0.551</td>\n",
       "      <td>0.540</td>\n",
       "      <td>0.543</td>\n",
       "      <td>0.593</td>\n",
       "      <td>0.593</td>\n",
       "      <td>0.524</td>\n",
       "    </tr>\n",
       "    <tr>\n",
       "      <th>tau similarity</th>\n",
       "      <td>0.033</td>\n",
       "      <td>0.044</td>\n",
       "      <td>0.035</td>\n",
       "      <td>0.031</td>\n",
       "      <td>0.093</td>\n",
       "      <td>0.058</td>\n",
       "      <td>0.021</td>\n",
       "    </tr>\n",
       "  </tbody>\n",
       "</table>\n",
       "</div>"
      ],
      "text/plain": [
       "                lirme  exs_top_k  exs_score  exs_regression   lime   shap  \\\n",
       "rbo             0.191      0.120      0.183           0.209  0.177  0.193   \n",
       "overlap         0.536      0.551      0.540           0.543  0.593  0.593   \n",
       "tau similarity  0.033      0.044      0.035           0.031  0.093  0.058   \n",
       "\n",
       "                random  \n",
       "rbo              0.209  \n",
       "overlap          0.524  \n",
       "tau similarity   0.021  "
      ]
     },
     "execution_count": 231,
     "metadata": {},
     "output_type": "execute_result"
    }
   ],
   "source": [
    "pd.DataFrame(eval_met[4000])"
   ]
  },
  {
   "cell_type": "code",
   "execution_count": 222,
   "id": "5eb7976e-33d9-4d57-b216-ddf350444f5d",
   "metadata": {},
   "outputs": [
    {
     "ename": "TypeError",
     "evalue": "__init__() got an unexpected keyword argument 'multiindex'",
     "output_type": "error",
     "traceback": [
      "\u001b[0;31m---------------------------------------------------------------------------\u001b[0m",
      "\u001b[0;31mTypeError\u001b[0m                                 Traceback (most recent call last)",
      "Cell \u001b[0;32mIn[222], line 5\u001b[0m\n\u001b[1;32m      3\u001b[0m \u001b[38;5;28;01mfor\u001b[39;00m a \u001b[38;5;129;01min\u001b[39;00m [\u001b[38;5;124m'\u001b[39m\u001b[38;5;124mrbo\u001b[39m\u001b[38;5;124m'\u001b[39m, \u001b[38;5;124m'\u001b[39m\u001b[38;5;124moverlap\u001b[39m\u001b[38;5;124m'\u001b[39m, \u001b[38;5;124m'\u001b[39m\u001b[38;5;124mtau similarity\u001b[39m\u001b[38;5;124m'\u001b[39m]:\n\u001b[1;32m      4\u001b[0m     arr\u001b[38;5;241m.\u001b[39mappend((s_size, a))\n\u001b[0;32m----> 5\u001b[0m \u001b[38;5;28mprint\u001b[39m(\u001b[43mpd\u001b[49m\u001b[38;5;241;43m.\u001b[39;49m\u001b[43mDataFrame\u001b[49m\u001b[43m(\u001b[49m\u001b[43meval_met\u001b[49m\u001b[43m[\u001b[49m\u001b[38;5;241;43m1000\u001b[39;49m\u001b[43m]\u001b[49m\u001b[43m,\u001b[49m\u001b[43m \u001b[49m\u001b[43mmultiindex\u001b[49m\u001b[38;5;241;43m=\u001b[39;49m\u001b[43marr\u001b[49m\u001b[43m)\u001b[49m)\n",
      "\u001b[0;31mTypeError\u001b[0m: __init__() got an unexpected keyword argument 'multiindex'"
     ]
    }
   ],
   "source": [
    "arr = []\n",
    "for s_size in [1000]:\n",
    "    for a in ['rbo', 'overlap', 'tau similarity']:\n",
    "        arr.append((s_size, a))\n",
    "    print(pd.DataFrame(eval_met[1000], multiindex=arr))"
   ]
  },
  {
   "cell_type": "code",
   "execution_count": 219,
   "id": "d138f430-5eca-4939-adbd-a0a390d09ec7",
   "metadata": {},
   "outputs": [
    {
     "data": {
      "text/plain": [
       "[(1000, 'rbo'), (1000, 'overlap'), (1000, 'tau similarity')]"
      ]
     },
     "execution_count": 219,
     "metadata": {},
     "output_type": "execute_result"
    }
   ],
   "source": [
    "arr"
   ]
  },
  {
   "cell_type": "code",
   "execution_count": 182,
   "id": "04b60884-ed5b-4f40-a467-7c009bcfdbd8",
   "metadata": {},
   "outputs": [
    {
     "ename": "TypeError",
     "evalue": "cannot concatenate object of type '<class 'list'>'; only Series and DataFrame objs are valid",
     "output_type": "error",
     "traceback": [
      "\u001b[0;31m---------------------------------------------------------------------------\u001b[0m",
      "\u001b[0;31mTypeError\u001b[0m                                 Traceback (most recent call last)",
      "Cell \u001b[0;32mIn[217], line 1\u001b[0m\n\u001b[0;32m----> 1\u001b[0m final_res \u001b[38;5;241m=\u001b[39m \u001b[43mpd\u001b[49m\u001b[38;5;241;43m.\u001b[39;49m\u001b[43mconcat\u001b[49m\u001b[43m(\u001b[49m\u001b[43m[\u001b[49m\u001b[43mpd\u001b[49m\u001b[38;5;241;43m.\u001b[39;49m\u001b[43mDataFrame\u001b[49m\u001b[43m(\u001b[49m\u001b[43meval_met\u001b[49m\u001b[43m[\u001b[49m\u001b[38;5;241;43m1000\u001b[39;49m\u001b[43m]\u001b[49m\u001b[43m)\u001b[49m\u001b[43m,\u001b[49m\u001b[43m \u001b[49m\u001b[43mpd\u001b[49m\u001b[38;5;241;43m.\u001b[39;49m\u001b[43mDataFrame\u001b[49m\u001b[43m(\u001b[49m\u001b[43meval_met\u001b[49m\u001b[43m[\u001b[49m\u001b[38;5;241;43m3000\u001b[39;49m\u001b[43m]\u001b[49m\u001b[43m)\u001b[49m\u001b[43m,\u001b[49m\u001b[43m \u001b[49m\u001b[43mpd\u001b[49m\u001b[38;5;241;43m.\u001b[39;49m\u001b[43mDataFrame\u001b[49m\u001b[43m(\u001b[49m\u001b[43meval_met\u001b[49m\u001b[43m[\u001b[49m\u001b[38;5;241;43m4000\u001b[39;49m\u001b[43m]\u001b[49m\u001b[43m)\u001b[49m\u001b[43m,\u001b[49m\u001b[43m \u001b[49m\u001b[43marr\u001b[49m\u001b[43m]\u001b[49m\u001b[43m)\u001b[49m\n",
      "File \u001b[0;32m~/.local/lib/python3.8/site-packages/pandas/util/_decorators.py:331\u001b[0m, in \u001b[0;36mdeprecate_nonkeyword_arguments.<locals>.decorate.<locals>.wrapper\u001b[0;34m(*args, **kwargs)\u001b[0m\n\u001b[1;32m    325\u001b[0m \u001b[38;5;28;01mif\u001b[39;00m \u001b[38;5;28mlen\u001b[39m(args) \u001b[38;5;241m>\u001b[39m num_allow_args:\n\u001b[1;32m    326\u001b[0m     warnings\u001b[38;5;241m.\u001b[39mwarn(\n\u001b[1;32m    327\u001b[0m         msg\u001b[38;5;241m.\u001b[39mformat(arguments\u001b[38;5;241m=\u001b[39m_format_argument_list(allow_args)),\n\u001b[1;32m    328\u001b[0m         \u001b[38;5;167;01mFutureWarning\u001b[39;00m,\n\u001b[1;32m    329\u001b[0m         stacklevel\u001b[38;5;241m=\u001b[39mfind_stack_level(),\n\u001b[1;32m    330\u001b[0m     )\n\u001b[0;32m--> 331\u001b[0m \u001b[38;5;28;01mreturn\u001b[39;00m \u001b[43mfunc\u001b[49m\u001b[43m(\u001b[49m\u001b[38;5;241;43m*\u001b[39;49m\u001b[43margs\u001b[49m\u001b[43m,\u001b[49m\u001b[43m \u001b[49m\u001b[38;5;241;43m*\u001b[39;49m\u001b[38;5;241;43m*\u001b[39;49m\u001b[43mkwargs\u001b[49m\u001b[43m)\u001b[49m\n",
      "File \u001b[0;32m~/.local/lib/python3.8/site-packages/pandas/core/reshape/concat.py:368\u001b[0m, in \u001b[0;36mconcat\u001b[0;34m(objs, axis, join, ignore_index, keys, levels, names, verify_integrity, sort, copy)\u001b[0m\n\u001b[1;32m    146\u001b[0m \u001b[38;5;129m@deprecate_nonkeyword_arguments\u001b[39m(version\u001b[38;5;241m=\u001b[39m\u001b[38;5;28;01mNone\u001b[39;00m, allowed_args\u001b[38;5;241m=\u001b[39m[\u001b[38;5;124m\"\u001b[39m\u001b[38;5;124mobjs\u001b[39m\u001b[38;5;124m\"\u001b[39m])\n\u001b[1;32m    147\u001b[0m \u001b[38;5;28;01mdef\u001b[39;00m \u001b[38;5;21mconcat\u001b[39m(\n\u001b[1;32m    148\u001b[0m     objs: Iterable[NDFrame] \u001b[38;5;241m|\u001b[39m Mapping[HashableT, NDFrame],\n\u001b[0;32m   (...)\u001b[0m\n\u001b[1;32m    157\u001b[0m     copy: \u001b[38;5;28mbool\u001b[39m \u001b[38;5;241m=\u001b[39m \u001b[38;5;28;01mTrue\u001b[39;00m,\n\u001b[1;32m    158\u001b[0m ) \u001b[38;5;241m-\u001b[39m\u001b[38;5;241m>\u001b[39m DataFrame \u001b[38;5;241m|\u001b[39m Series:\n\u001b[1;32m    159\u001b[0m \u001b[38;5;250m    \u001b[39m\u001b[38;5;124;03m\"\"\"\u001b[39;00m\n\u001b[1;32m    160\u001b[0m \u001b[38;5;124;03m    Concatenate pandas objects along a particular axis.\u001b[39;00m\n\u001b[1;32m    161\u001b[0m \n\u001b[0;32m   (...)\u001b[0m\n\u001b[1;32m    366\u001b[0m \u001b[38;5;124;03m    1   3   4\u001b[39;00m\n\u001b[1;32m    367\u001b[0m \u001b[38;5;124;03m    \"\"\"\u001b[39;00m\n\u001b[0;32m--> 368\u001b[0m     op \u001b[38;5;241m=\u001b[39m \u001b[43m_Concatenator\u001b[49m\u001b[43m(\u001b[49m\n\u001b[1;32m    369\u001b[0m \u001b[43m        \u001b[49m\u001b[43mobjs\u001b[49m\u001b[43m,\u001b[49m\n\u001b[1;32m    370\u001b[0m \u001b[43m        \u001b[49m\u001b[43maxis\u001b[49m\u001b[38;5;241;43m=\u001b[39;49m\u001b[43maxis\u001b[49m\u001b[43m,\u001b[49m\n\u001b[1;32m    371\u001b[0m \u001b[43m        \u001b[49m\u001b[43mignore_index\u001b[49m\u001b[38;5;241;43m=\u001b[39;49m\u001b[43mignore_index\u001b[49m\u001b[43m,\u001b[49m\n\u001b[1;32m    372\u001b[0m \u001b[43m        \u001b[49m\u001b[43mjoin\u001b[49m\u001b[38;5;241;43m=\u001b[39;49m\u001b[43mjoin\u001b[49m\u001b[43m,\u001b[49m\n\u001b[1;32m    373\u001b[0m \u001b[43m        \u001b[49m\u001b[43mkeys\u001b[49m\u001b[38;5;241;43m=\u001b[39;49m\u001b[43mkeys\u001b[49m\u001b[43m,\u001b[49m\n\u001b[1;32m    374\u001b[0m \u001b[43m        \u001b[49m\u001b[43mlevels\u001b[49m\u001b[38;5;241;43m=\u001b[39;49m\u001b[43mlevels\u001b[49m\u001b[43m,\u001b[49m\n\u001b[1;32m    375\u001b[0m \u001b[43m        \u001b[49m\u001b[43mnames\u001b[49m\u001b[38;5;241;43m=\u001b[39;49m\u001b[43mnames\u001b[49m\u001b[43m,\u001b[49m\n\u001b[1;32m    376\u001b[0m \u001b[43m        \u001b[49m\u001b[43mverify_integrity\u001b[49m\u001b[38;5;241;43m=\u001b[39;49m\u001b[43mverify_integrity\u001b[49m\u001b[43m,\u001b[49m\n\u001b[1;32m    377\u001b[0m \u001b[43m        \u001b[49m\u001b[43mcopy\u001b[49m\u001b[38;5;241;43m=\u001b[39;49m\u001b[43mcopy\u001b[49m\u001b[43m,\u001b[49m\n\u001b[1;32m    378\u001b[0m \u001b[43m        \u001b[49m\u001b[43msort\u001b[49m\u001b[38;5;241;43m=\u001b[39;49m\u001b[43msort\u001b[49m\u001b[43m,\u001b[49m\n\u001b[1;32m    379\u001b[0m \u001b[43m    \u001b[49m\u001b[43m)\u001b[49m\n\u001b[1;32m    381\u001b[0m     \u001b[38;5;28;01mreturn\u001b[39;00m op\u001b[38;5;241m.\u001b[39mget_result()\n",
      "File \u001b[0;32m~/.local/lib/python3.8/site-packages/pandas/core/reshape/concat.py:458\u001b[0m, in \u001b[0;36m_Concatenator.__init__\u001b[0;34m(self, objs, axis, join, keys, levels, names, ignore_index, verify_integrity, copy, sort)\u001b[0m\n\u001b[1;32m    453\u001b[0m     \u001b[38;5;28;01mif\u001b[39;00m \u001b[38;5;129;01mnot\u001b[39;00m \u001b[38;5;28misinstance\u001b[39m(obj, (ABCSeries, ABCDataFrame)):\n\u001b[1;32m    454\u001b[0m         msg \u001b[38;5;241m=\u001b[39m (\n\u001b[1;32m    455\u001b[0m             \u001b[38;5;124mf\u001b[39m\u001b[38;5;124m\"\u001b[39m\u001b[38;5;124mcannot concatenate object of type \u001b[39m\u001b[38;5;124m'\u001b[39m\u001b[38;5;132;01m{\u001b[39;00m\u001b[38;5;28mtype\u001b[39m(obj)\u001b[38;5;132;01m}\u001b[39;00m\u001b[38;5;124m'\u001b[39m\u001b[38;5;124m; \u001b[39m\u001b[38;5;124m\"\u001b[39m\n\u001b[1;32m    456\u001b[0m             \u001b[38;5;124m\"\u001b[39m\u001b[38;5;124monly Series and DataFrame objs are valid\u001b[39m\u001b[38;5;124m\"\u001b[39m\n\u001b[1;32m    457\u001b[0m         )\n\u001b[0;32m--> 458\u001b[0m         \u001b[38;5;28;01mraise\u001b[39;00m \u001b[38;5;167;01mTypeError\u001b[39;00m(msg)\n\u001b[1;32m    460\u001b[0m     ndims\u001b[38;5;241m.\u001b[39madd(obj\u001b[38;5;241m.\u001b[39mndim)\n\u001b[1;32m    462\u001b[0m \u001b[38;5;66;03m# get the sample\u001b[39;00m\n\u001b[1;32m    463\u001b[0m \u001b[38;5;66;03m# want the highest ndim that we have, and must be non-empty\u001b[39;00m\n\u001b[1;32m    464\u001b[0m \u001b[38;5;66;03m# unless all objs are empty\u001b[39;00m\n",
      "\u001b[0;31mTypeError\u001b[0m: cannot concatenate object of type '<class 'list'>'; only Series and DataFrame objs are valid"
     ]
    }
   ],
   "source": [
    "final_res = pd.concat([pd.DataFrame(eval_met[1000]), pd.DataFrame(eval_met[3000]), pd.DataFrame(eval_met[4000]), arr])"
   ]
  },
  {
   "cell_type": "code",
   "execution_count": 183,
   "id": "c09faccb-b335-4118-8fb8-b2cf6af4a6ae",
   "metadata": {},
   "outputs": [
    {
     "data": {
      "text/html": [
       "<div>\n",
       "<style scoped>\n",
       "    .dataframe tbody tr th:only-of-type {\n",
       "        vertical-align: middle;\n",
       "    }\n",
       "\n",
       "    .dataframe tbody tr th {\n",
       "        vertical-align: top;\n",
       "    }\n",
       "\n",
       "    .dataframe thead th {\n",
       "        text-align: right;\n",
       "    }\n",
       "</style>\n",
       "<table border=\"1\" class=\"dataframe\">\n",
       "  <thead>\n",
       "    <tr style=\"text-align: right;\">\n",
       "      <th></th>\n",
       "      <th>lirme</th>\n",
       "      <th>exs_top_k</th>\n",
       "      <th>exs_score</th>\n",
       "      <th>exs_regression</th>\n",
       "      <th>lime</th>\n",
       "      <th>shap</th>\n",
       "      <th>random</th>\n",
       "    </tr>\n",
       "  </thead>\n",
       "  <tbody>\n",
       "    <tr>\n",
       "      <th>rbo</th>\n",
       "      <td>0.198</td>\n",
       "      <td>0.112</td>\n",
       "      <td>0.194</td>\n",
       "      <td>0.205</td>\n",
       "      <td>0.209</td>\n",
       "      <td>0.193</td>\n",
       "      <td>0.192</td>\n",
       "    </tr>\n",
       "    <tr>\n",
       "      <th>overlap</th>\n",
       "      <td>0.537</td>\n",
       "      <td>0.544</td>\n",
       "      <td>0.538</td>\n",
       "      <td>0.533</td>\n",
       "      <td>0.589</td>\n",
       "      <td>0.593</td>\n",
       "      <td>0.533</td>\n",
       "    </tr>\n",
       "    <tr>\n",
       "      <th>tau similarity</th>\n",
       "      <td>0.028</td>\n",
       "      <td>0.027</td>\n",
       "      <td>0.022</td>\n",
       "      <td>0.018</td>\n",
       "      <td>0.092</td>\n",
       "      <td>0.058</td>\n",
       "      <td>-0.000</td>\n",
       "    </tr>\n",
       "    <tr>\n",
       "      <th>rbo</th>\n",
       "      <td>0.192</td>\n",
       "      <td>0.135</td>\n",
       "      <td>0.191</td>\n",
       "      <td>0.209</td>\n",
       "      <td>0.211</td>\n",
       "      <td>0.193</td>\n",
       "      <td>0.200</td>\n",
       "    </tr>\n",
       "    <tr>\n",
       "      <th>overlap</th>\n",
       "      <td>0.537</td>\n",
       "      <td>0.544</td>\n",
       "      <td>0.546</td>\n",
       "      <td>0.534</td>\n",
       "      <td>0.596</td>\n",
       "      <td>0.593</td>\n",
       "      <td>0.523</td>\n",
       "    </tr>\n",
       "    <tr>\n",
       "      <th>tau similarity</th>\n",
       "      <td>0.034</td>\n",
       "      <td>0.019</td>\n",
       "      <td>0.035</td>\n",
       "      <td>0.036</td>\n",
       "      <td>0.087</td>\n",
       "      <td>0.058</td>\n",
       "      <td>-0.038</td>\n",
       "    </tr>\n",
       "    <tr>\n",
       "      <th>rbo</th>\n",
       "      <td>0.191</td>\n",
       "      <td>0.120</td>\n",
       "      <td>0.183</td>\n",
       "      <td>0.209</td>\n",
       "      <td>0.177</td>\n",
       "      <td>0.193</td>\n",
       "      <td>0.209</td>\n",
       "    </tr>\n",
       "    <tr>\n",
       "      <th>overlap</th>\n",
       "      <td>0.536</td>\n",
       "      <td>0.551</td>\n",
       "      <td>0.540</td>\n",
       "      <td>0.543</td>\n",
       "      <td>0.593</td>\n",
       "      <td>0.593</td>\n",
       "      <td>0.524</td>\n",
       "    </tr>\n",
       "    <tr>\n",
       "      <th>tau similarity</th>\n",
       "      <td>0.033</td>\n",
       "      <td>0.044</td>\n",
       "      <td>0.035</td>\n",
       "      <td>0.031</td>\n",
       "      <td>0.093</td>\n",
       "      <td>0.058</td>\n",
       "      <td>0.021</td>\n",
       "    </tr>\n",
       "  </tbody>\n",
       "</table>\n",
       "</div>"
      ],
      "text/plain": [
       "                lirme  exs_top_k  exs_score  exs_regression   lime   shap  \\\n",
       "rbo             0.198      0.112      0.194           0.205  0.209  0.193   \n",
       "overlap         0.537      0.544      0.538           0.533  0.589  0.593   \n",
       "tau similarity  0.028      0.027      0.022           0.018  0.092  0.058   \n",
       "rbo             0.192      0.135      0.191           0.209  0.211  0.193   \n",
       "overlap         0.537      0.544      0.546           0.534  0.596  0.593   \n",
       "tau similarity  0.034      0.019      0.035           0.036  0.087  0.058   \n",
       "rbo             0.191      0.120      0.183           0.209  0.177  0.193   \n",
       "overlap         0.536      0.551      0.540           0.543  0.593  0.593   \n",
       "tau similarity  0.033      0.044      0.035           0.031  0.093  0.058   \n",
       "\n",
       "                random  \n",
       "rbo              0.192  \n",
       "overlap          0.533  \n",
       "tau similarity  -0.000  \n",
       "rbo              0.200  \n",
       "overlap          0.523  \n",
       "tau similarity  -0.038  \n",
       "rbo              0.209  \n",
       "overlap          0.524  \n",
       "tau similarity   0.021  "
      ]
     },
     "execution_count": 183,
     "metadata": {},
     "output_type": "execute_result"
    }
   ],
   "source": [
    "final_res"
   ]
  },
  {
   "cell_type": "code",
   "execution_count": 144,
   "id": "623acbdc-62d0-4a7c-8cff-42092a2420fd",
   "metadata": {},
   "outputs": [
    {
     "data": {
      "text/plain": [
       "Index(['rbo', 'overlap', 'tau', 'rbo', 'overlap', 'tau', 'rbo', 'overlap',\n",
       "       'tau'],\n",
       "      dtype='object')"
      ]
     },
     "execution_count": 144,
     "metadata": {},
     "output_type": "execute_result"
    }
   ],
   "source": [
    "|         |   lirme |   exs_top_k |   exs_score |   exs_regression |   lime |   shap |   random |\n",
    "|:--------|--------:|------------:|------------:|-----------------:|-------:|-------:|---------:|\n",
    "| rbo     |   0.191 |       0.12  |       0.183 |            0.209 |  0.177 |  0.193 |    0.209 |\n",
    "| overlap |   0.536 |       0.551 |       0.54  |            0.543 |  0.593 |  0.593 |    0.524 |\n",
    "| tau     |   0.033 |       0.044 |       0.035 |            0.031 |  0.093 |  0.058 |    0.021 |\n",
    "| rbo     |   0.191 |       0.12  |       0.183 |            0.209 |  0.177 |  0.193 |    0.209 |\n",
    "| overlap |   0.536 |       0.551 |       0.54  |            0.543 |  0.593 |  0.593 |    0.524 |\n",
    "| tau     |   0.033 |       0.044 |       0.035 |            0.031 |  0.093 |  0.058 |    0.021 |\n",
    "| rbo     |   0.191 |       0.12  |       0.183 |            0.209 |  0.177 |  0.193 |    0.209 |\n",
    "| overlap |   0.536 |       0.551 |       0.54  |            0.543 |  0.593 |  0.593 |    0.524 |\n",
    "| tau     |   0.033 |       0.044 |       0.035 |            0.031 |  0.093 |  0.058 |    0.021 |"
   ]
  },
  {
   "cell_type": "markdown",
   "id": "f1b59743-d44e-4bcb-a91c-51f51e15e20f",
   "metadata": {},
   "source": [
    " Sample Size |                |   lirme |  exs(top_k) |   exs_score |   exs_regression |   lime |   shap |   random |\n",
    ":------------|:---------------|--------:|------------:|------------:|-----------------:|-------:|-------:|---------:|\n",
    "             | rbo            |   0.198 |       0.112 |       0.194 |            0.205 |  0.209 |  0.193 |    0.192 |\n",
    "    1000     | overlap        |   0.537 |       0.544 |       0.538 |            0.533 |  0.589 |  0.593 |    0.533 |\n",
    "             | tau similarity |   0.028 |       0.027 |       0.022 |            0.018 |  0.092 |  0.058 |   -0     |\n",
    "-------------|-----------------|--------:|------------:|------------:|-----------------:|-------:|-------:|---------:|\n",
    "             | rbo            |   0.192 |       0.135 |       0.191 |            0.209 |  0.211 |  0.193 |    0.2   |\n",
    "    3000     | overlap        |   0.537 |       0.544 |       0.546 |            0.534 |  0.596 |  0.593 |    0.523 |\n",
    "             | tau similarity |   0.034 |       0.019 |       0.035 |            0.036 |  0.087 |  0.058 |   -0.038 |\n",
    "-------------|-----------------|--------:|------------:|------------:|-----------------:|-------:|-------:|---------:|\n",
    "             | rbo            |   0.191 |       0.12  |       0.183 |            0.209 |  0.177 |  0.193 |    0.209 |\n",
    "    40000    | overlap        |   0.536 |       0.551 |       0.54  |            0.543 |  0.593 |  0.593 |    0.524 |\n",
    "             | tau similarity |   0.033 |       0.044 |       0.035 |            0.031 |  0.093 |  0.058 |    0.021 |\n"
   ]
  },
  {
   "cell_type": "code",
   "execution_count": 198,
   "id": "5efcf73f-258d-4795-878d-f89e2f501049",
   "metadata": {},
   "outputs": [],
   "source": [
    "arrays = [\n",
    "    [\"bar\", \"bar\", \"baz\", \"baz\", \"foo\", \"foo\", \"qux\", \"qux\"],\n",
    "    [\"one\", \"two\", \"one\", \"two\", \"one\", \"two\", \"one\", \"two\"],\n",
    "]"
   ]
  },
  {
   "cell_type": "code",
   "execution_count": 206,
   "id": "76b05da0-5129-4f3f-a764-4b010b6c9774",
   "metadata": {},
   "outputs": [],
   "source": [
    "arr = []\n",
    "for s_size in [1000, 3000, 5000]:\n",
    "    for a in ['rbo', 'overlap', 'tau similarity']:\n",
    "        arr.append((s_size, a))\n",
    "    "
   ]
  },
  {
   "cell_type": "code",
   "execution_count": 209,
   "id": "be11c0fe-1372-4c4b-a821-88e5a4854efe",
   "metadata": {},
   "outputs": [
    {
     "data": {
      "text/plain": [
       "[(1000, 'rbo'),\n",
       " (1000, 'overlap'),\n",
       " (1000, 'tau similarity'),\n",
       " (3000, 'rbo'),\n",
       " (3000, 'overlap'),\n",
       " (3000, 'tau similarity'),\n",
       " (5000, 'rbo'),\n",
       " (5000, 'overlap'),\n",
       " (5000, 'tau similarity')]"
      ]
     },
     "execution_count": 209,
     "metadata": {},
     "output_type": "execute_result"
    }
   ],
   "source": [
    "arr"
   ]
  },
  {
   "cell_type": "code",
   "execution_count": 210,
   "id": "9d32b922-3f47-40de-a933-5e9297f3378f",
   "metadata": {},
   "outputs": [],
   "source": [
    "tuples = list(zip(*arr))"
   ]
  },
  {
   "cell_type": "code",
   "execution_count": 211,
   "id": "931c75f7-1eed-46d7-b777-64220a4ddd87",
   "metadata": {},
   "outputs": [
    {
     "data": {
      "text/plain": [
       "[(1000, 1000, 1000, 3000, 3000, 3000, 5000, 5000, 5000),\n",
       " ('rbo',\n",
       "  'overlap',\n",
       "  'tau similarity',\n",
       "  'rbo',\n",
       "  'overlap',\n",
       "  'tau similarity',\n",
       "  'rbo',\n",
       "  'overlap',\n",
       "  'tau similarity')]"
      ]
     },
     "execution_count": 211,
     "metadata": {},
     "output_type": "execute_result"
    }
   ],
   "source": [
    "tuples"
   ]
  },
  {
   "cell_type": "code",
   "execution_count": 216,
   "id": "452b55eb-436a-434b-b51c-95e9b3f77962",
   "metadata": {},
   "outputs": [
    {
     "name": "stderr",
     "output_type": "stream",
     "text": [
      "reindexing with a non-unique Index is deprecated and will raise in a future version.\n"
     ]
    },
    {
     "ename": "ValueError",
     "evalue": "cannot reindex on an axis with duplicate labels",
     "output_type": "error",
     "traceback": [
      "\u001b[0;31m---------------------------------------------------------------------------\u001b[0m",
      "\u001b[0;31mValueError\u001b[0m                                Traceback (most recent call last)",
      "Cell \u001b[0;32mIn[216], line 1\u001b[0m\n\u001b[0;32m----> 1\u001b[0m \u001b[43mfinal_res\u001b[49m\u001b[38;5;241;43m.\u001b[39;49m\u001b[43mreindex\u001b[49m\u001b[43m(\u001b[49m\u001b[43marr\u001b[49m\u001b[43m)\u001b[49m\n",
      "File \u001b[0;32m~/.local/lib/python3.8/site-packages/pandas/util/_decorators.py:347\u001b[0m, in \u001b[0;36mrewrite_axis_style_signature.<locals>.decorate.<locals>.wrapper\u001b[0;34m(*args, **kwargs)\u001b[0m\n\u001b[1;32m    345\u001b[0m \u001b[38;5;129m@wraps\u001b[39m(func)\n\u001b[1;32m    346\u001b[0m \u001b[38;5;28;01mdef\u001b[39;00m \u001b[38;5;21mwrapper\u001b[39m(\u001b[38;5;241m*\u001b[39margs, \u001b[38;5;241m*\u001b[39m\u001b[38;5;241m*\u001b[39mkwargs) \u001b[38;5;241m-\u001b[39m\u001b[38;5;241m>\u001b[39m Callable[\u001b[38;5;241m.\u001b[39m\u001b[38;5;241m.\u001b[39m\u001b[38;5;241m.\u001b[39m, Any]:\n\u001b[0;32m--> 347\u001b[0m     \u001b[38;5;28;01mreturn\u001b[39;00m \u001b[43mfunc\u001b[49m\u001b[43m(\u001b[49m\u001b[38;5;241;43m*\u001b[39;49m\u001b[43margs\u001b[49m\u001b[43m,\u001b[49m\u001b[43m \u001b[49m\u001b[38;5;241;43m*\u001b[39;49m\u001b[38;5;241;43m*\u001b[39;49m\u001b[43mkwargs\u001b[49m\u001b[43m)\u001b[49m\n",
      "File \u001b[0;32m~/.local/lib/python3.8/site-packages/pandas/core/frame.py:5205\u001b[0m, in \u001b[0;36mDataFrame.reindex\u001b[0;34m(self, *args, **kwargs)\u001b[0m\n\u001b[1;32m   5203\u001b[0m kwargs\u001b[38;5;241m.\u001b[39mpop(\u001b[38;5;124m\"\u001b[39m\u001b[38;5;124maxis\u001b[39m\u001b[38;5;124m\"\u001b[39m, \u001b[38;5;28;01mNone\u001b[39;00m)\n\u001b[1;32m   5204\u001b[0m kwargs\u001b[38;5;241m.\u001b[39mpop(\u001b[38;5;124m\"\u001b[39m\u001b[38;5;124mlabels\u001b[39m\u001b[38;5;124m\"\u001b[39m, \u001b[38;5;28;01mNone\u001b[39;00m)\n\u001b[0;32m-> 5205\u001b[0m \u001b[38;5;28;01mreturn\u001b[39;00m \u001b[38;5;28;43msuper\u001b[39;49m\u001b[43m(\u001b[49m\u001b[43m)\u001b[49m\u001b[38;5;241;43m.\u001b[39;49m\u001b[43mreindex\u001b[49m\u001b[43m(\u001b[49m\u001b[38;5;241;43m*\u001b[39;49m\u001b[38;5;241;43m*\u001b[39;49m\u001b[43mkwargs\u001b[49m\u001b[43m)\u001b[49m\n",
      "File \u001b[0;32m~/.local/lib/python3.8/site-packages/pandas/core/generic.py:5289\u001b[0m, in \u001b[0;36mNDFrame.reindex\u001b[0;34m(self, *args, **kwargs)\u001b[0m\n\u001b[1;32m   5286\u001b[0m     \u001b[38;5;28;01mreturn\u001b[39;00m \u001b[38;5;28mself\u001b[39m\u001b[38;5;241m.\u001b[39m_reindex_multi(axes, copy, fill_value)\n\u001b[1;32m   5288\u001b[0m \u001b[38;5;66;03m# perform the reindex on the axes\u001b[39;00m\n\u001b[0;32m-> 5289\u001b[0m \u001b[38;5;28;01mreturn\u001b[39;00m \u001b[38;5;28;43mself\u001b[39;49m\u001b[38;5;241;43m.\u001b[39;49m\u001b[43m_reindex_axes\u001b[49m\u001b[43m(\u001b[49m\n\u001b[1;32m   5290\u001b[0m \u001b[43m    \u001b[49m\u001b[43maxes\u001b[49m\u001b[43m,\u001b[49m\u001b[43m \u001b[49m\u001b[43mlevel\u001b[49m\u001b[43m,\u001b[49m\u001b[43m \u001b[49m\u001b[43mlimit\u001b[49m\u001b[43m,\u001b[49m\u001b[43m \u001b[49m\u001b[43mtolerance\u001b[49m\u001b[43m,\u001b[49m\u001b[43m \u001b[49m\u001b[43mmethod\u001b[49m\u001b[43m,\u001b[49m\u001b[43m \u001b[49m\u001b[43mfill_value\u001b[49m\u001b[43m,\u001b[49m\u001b[43m \u001b[49m\u001b[43mcopy\u001b[49m\n\u001b[1;32m   5291\u001b[0m \u001b[43m\u001b[49m\u001b[43m)\u001b[49m\u001b[38;5;241m.\u001b[39m__finalize__(\u001b[38;5;28mself\u001b[39m, method\u001b[38;5;241m=\u001b[39m\u001b[38;5;124m\"\u001b[39m\u001b[38;5;124mreindex\u001b[39m\u001b[38;5;124m\"\u001b[39m)\n",
      "File \u001b[0;32m~/.local/lib/python3.8/site-packages/pandas/core/frame.py:5004\u001b[0m, in \u001b[0;36mDataFrame._reindex_axes\u001b[0;34m(self, axes, level, limit, tolerance, method, fill_value, copy)\u001b[0m\n\u001b[1;32m   5002\u001b[0m index \u001b[38;5;241m=\u001b[39m axes[\u001b[38;5;124m\"\u001b[39m\u001b[38;5;124mindex\u001b[39m\u001b[38;5;124m\"\u001b[39m]\n\u001b[1;32m   5003\u001b[0m \u001b[38;5;28;01mif\u001b[39;00m index \u001b[38;5;129;01mis\u001b[39;00m \u001b[38;5;129;01mnot\u001b[39;00m \u001b[38;5;28;01mNone\u001b[39;00m:\n\u001b[0;32m-> 5004\u001b[0m     frame \u001b[38;5;241m=\u001b[39m \u001b[43mframe\u001b[49m\u001b[38;5;241;43m.\u001b[39;49m\u001b[43m_reindex_index\u001b[49m\u001b[43m(\u001b[49m\n\u001b[1;32m   5005\u001b[0m \u001b[43m        \u001b[49m\u001b[43mindex\u001b[49m\u001b[43m,\u001b[49m\u001b[43m \u001b[49m\u001b[43mmethod\u001b[49m\u001b[43m,\u001b[49m\u001b[43m \u001b[49m\u001b[43mcopy\u001b[49m\u001b[43m,\u001b[49m\u001b[43m \u001b[49m\u001b[43mlevel\u001b[49m\u001b[43m,\u001b[49m\u001b[43m \u001b[49m\u001b[43mfill_value\u001b[49m\u001b[43m,\u001b[49m\u001b[43m \u001b[49m\u001b[43mlimit\u001b[49m\u001b[43m,\u001b[49m\u001b[43m \u001b[49m\u001b[43mtolerance\u001b[49m\n\u001b[1;32m   5006\u001b[0m \u001b[43m    \u001b[49m\u001b[43m)\u001b[49m\n\u001b[1;32m   5008\u001b[0m \u001b[38;5;28;01mreturn\u001b[39;00m frame\n",
      "File \u001b[0;32m~/.local/lib/python3.8/site-packages/pandas/core/frame.py:5023\u001b[0m, in \u001b[0;36mDataFrame._reindex_index\u001b[0;34m(self, new_index, method, copy, level, fill_value, limit, tolerance)\u001b[0m\n\u001b[1;32m   5010\u001b[0m \u001b[38;5;28;01mdef\u001b[39;00m \u001b[38;5;21m_reindex_index\u001b[39m(\n\u001b[1;32m   5011\u001b[0m     \u001b[38;5;28mself\u001b[39m,\n\u001b[1;32m   5012\u001b[0m     new_index,\n\u001b[0;32m   (...)\u001b[0m\n\u001b[1;32m   5018\u001b[0m     tolerance\u001b[38;5;241m=\u001b[39m\u001b[38;5;28;01mNone\u001b[39;00m,\n\u001b[1;32m   5019\u001b[0m ):\n\u001b[1;32m   5020\u001b[0m     new_index, indexer \u001b[38;5;241m=\u001b[39m \u001b[38;5;28mself\u001b[39m\u001b[38;5;241m.\u001b[39mindex\u001b[38;5;241m.\u001b[39mreindex(\n\u001b[1;32m   5021\u001b[0m         new_index, method\u001b[38;5;241m=\u001b[39mmethod, level\u001b[38;5;241m=\u001b[39mlevel, limit\u001b[38;5;241m=\u001b[39mlimit, tolerance\u001b[38;5;241m=\u001b[39mtolerance\n\u001b[1;32m   5022\u001b[0m     )\n\u001b[0;32m-> 5023\u001b[0m     \u001b[38;5;28;01mreturn\u001b[39;00m \u001b[38;5;28;43mself\u001b[39;49m\u001b[38;5;241;43m.\u001b[39;49m\u001b[43m_reindex_with_indexers\u001b[49m\u001b[43m(\u001b[49m\n\u001b[1;32m   5024\u001b[0m \u001b[43m        \u001b[49m\u001b[43m{\u001b[49m\u001b[38;5;241;43m0\u001b[39;49m\u001b[43m:\u001b[49m\u001b[43m \u001b[49m\u001b[43m[\u001b[49m\u001b[43mnew_index\u001b[49m\u001b[43m,\u001b[49m\u001b[43m \u001b[49m\u001b[43mindexer\u001b[49m\u001b[43m]\u001b[49m\u001b[43m}\u001b[49m\u001b[43m,\u001b[49m\n\u001b[1;32m   5025\u001b[0m \u001b[43m        \u001b[49m\u001b[43mcopy\u001b[49m\u001b[38;5;241;43m=\u001b[39;49m\u001b[43mcopy\u001b[49m\u001b[43m,\u001b[49m\n\u001b[1;32m   5026\u001b[0m \u001b[43m        \u001b[49m\u001b[43mfill_value\u001b[49m\u001b[38;5;241;43m=\u001b[39;49m\u001b[43mfill_value\u001b[49m\u001b[43m,\u001b[49m\n\u001b[1;32m   5027\u001b[0m \u001b[43m        \u001b[49m\u001b[43mallow_dups\u001b[49m\u001b[38;5;241;43m=\u001b[39;49m\u001b[38;5;28;43;01mFalse\u001b[39;49;00m\u001b[43m,\u001b[49m\n\u001b[1;32m   5028\u001b[0m \u001b[43m    \u001b[49m\u001b[43m)\u001b[49m\n",
      "File \u001b[0;32m~/.local/lib/python3.8/site-packages/pandas/core/generic.py:5355\u001b[0m, in \u001b[0;36mNDFrame._reindex_with_indexers\u001b[0;34m(self, reindexers, fill_value, copy, allow_dups)\u001b[0m\n\u001b[1;32m   5352\u001b[0m     indexer \u001b[38;5;241m=\u001b[39m ensure_platform_int(indexer)\n\u001b[1;32m   5354\u001b[0m \u001b[38;5;66;03m# TODO: speed up on homogeneous DataFrame objects (see _reindex_multi)\u001b[39;00m\n\u001b[0;32m-> 5355\u001b[0m new_data \u001b[38;5;241m=\u001b[39m \u001b[43mnew_data\u001b[49m\u001b[38;5;241;43m.\u001b[39;49m\u001b[43mreindex_indexer\u001b[49m\u001b[43m(\u001b[49m\n\u001b[1;32m   5356\u001b[0m \u001b[43m    \u001b[49m\u001b[43mindex\u001b[49m\u001b[43m,\u001b[49m\n\u001b[1;32m   5357\u001b[0m \u001b[43m    \u001b[49m\u001b[43mindexer\u001b[49m\u001b[43m,\u001b[49m\n\u001b[1;32m   5358\u001b[0m \u001b[43m    \u001b[49m\u001b[43maxis\u001b[49m\u001b[38;5;241;43m=\u001b[39;49m\u001b[43mbaxis\u001b[49m\u001b[43m,\u001b[49m\n\u001b[1;32m   5359\u001b[0m \u001b[43m    \u001b[49m\u001b[43mfill_value\u001b[49m\u001b[38;5;241;43m=\u001b[39;49m\u001b[43mfill_value\u001b[49m\u001b[43m,\u001b[49m\n\u001b[1;32m   5360\u001b[0m \u001b[43m    \u001b[49m\u001b[43mallow_dups\u001b[49m\u001b[38;5;241;43m=\u001b[39;49m\u001b[43mallow_dups\u001b[49m\u001b[43m,\u001b[49m\n\u001b[1;32m   5361\u001b[0m \u001b[43m    \u001b[49m\u001b[43mcopy\u001b[49m\u001b[38;5;241;43m=\u001b[39;49m\u001b[43mcopy\u001b[49m\u001b[43m,\u001b[49m\n\u001b[1;32m   5362\u001b[0m \u001b[43m\u001b[49m\u001b[43m)\u001b[49m\n\u001b[1;32m   5363\u001b[0m \u001b[38;5;66;03m# If we've made a copy once, no need to make another one\u001b[39;00m\n\u001b[1;32m   5364\u001b[0m copy \u001b[38;5;241m=\u001b[39m \u001b[38;5;28;01mFalse\u001b[39;00m\n",
      "File \u001b[0;32m~/.local/lib/python3.8/site-packages/pandas/core/internals/managers.py:737\u001b[0m, in \u001b[0;36mBaseBlockManager.reindex_indexer\u001b[0;34m(self, new_axis, indexer, axis, fill_value, allow_dups, copy, only_slice, use_na_proxy)\u001b[0m\n\u001b[1;32m    735\u001b[0m \u001b[38;5;66;03m# some axes don't allow reindexing with dups\u001b[39;00m\n\u001b[1;32m    736\u001b[0m \u001b[38;5;28;01mif\u001b[39;00m \u001b[38;5;129;01mnot\u001b[39;00m allow_dups:\n\u001b[0;32m--> 737\u001b[0m     \u001b[38;5;28;43mself\u001b[39;49m\u001b[38;5;241;43m.\u001b[39;49m\u001b[43maxes\u001b[49m\u001b[43m[\u001b[49m\u001b[43maxis\u001b[49m\u001b[43m]\u001b[49m\u001b[38;5;241;43m.\u001b[39;49m\u001b[43m_validate_can_reindex\u001b[49m\u001b[43m(\u001b[49m\u001b[43mindexer\u001b[49m\u001b[43m)\u001b[49m\n\u001b[1;32m    739\u001b[0m \u001b[38;5;28;01mif\u001b[39;00m axis \u001b[38;5;241m>\u001b[39m\u001b[38;5;241m=\u001b[39m \u001b[38;5;28mself\u001b[39m\u001b[38;5;241m.\u001b[39mndim:\n\u001b[1;32m    740\u001b[0m     \u001b[38;5;28;01mraise\u001b[39;00m \u001b[38;5;167;01mIndexError\u001b[39;00m(\u001b[38;5;124m\"\u001b[39m\u001b[38;5;124mRequested axis not found in manager\u001b[39m\u001b[38;5;124m\"\u001b[39m)\n",
      "File \u001b[0;32m~/.local/lib/python3.8/site-packages/pandas/core/indexes/base.py:4316\u001b[0m, in \u001b[0;36mIndex._validate_can_reindex\u001b[0;34m(self, indexer)\u001b[0m\n\u001b[1;32m   4314\u001b[0m \u001b[38;5;66;03m# trying to reindex on an axis with duplicates\u001b[39;00m\n\u001b[1;32m   4315\u001b[0m \u001b[38;5;28;01mif\u001b[39;00m \u001b[38;5;129;01mnot\u001b[39;00m \u001b[38;5;28mself\u001b[39m\u001b[38;5;241m.\u001b[39m_index_as_unique \u001b[38;5;129;01mand\u001b[39;00m \u001b[38;5;28mlen\u001b[39m(indexer):\n\u001b[0;32m-> 4316\u001b[0m     \u001b[38;5;28;01mraise\u001b[39;00m \u001b[38;5;167;01mValueError\u001b[39;00m(\u001b[38;5;124m\"\u001b[39m\u001b[38;5;124mcannot reindex on an axis with duplicate labels\u001b[39m\u001b[38;5;124m\"\u001b[39m)\n",
      "\u001b[0;31mValueError\u001b[0m: cannot reindex on an axis with duplicate labels"
     ]
    }
   ],
   "source": [
    "final_res.reindex(arr)"
   ]
  },
  {
   "cell_type": "code",
   "execution_count": 214,
   "id": "cd1cd77c-8b32-4059-8549-92fc47a43c23",
   "metadata": {},
   "outputs": [
    {
     "ename": "KeyError",
     "evalue": "\"None of [(1000, 'rbo'), (1000, 'overlap'), (1000, 'tau similarity'), (3000, 'rbo'), (3000, 'overlap'), (3000, 'tau similarity'), (5000, 'rbo'), (5000, 'overlap'), (5000, 'tau similarity')] are in the columns\"",
     "output_type": "error",
     "traceback": [
      "\u001b[0;31m---------------------------------------------------------------------------\u001b[0m",
      "\u001b[0;31mKeyError\u001b[0m                                  Traceback (most recent call last)",
      "Cell \u001b[0;32mIn[214], line 1\u001b[0m\n\u001b[0;32m----> 1\u001b[0m \u001b[43mfinal_res\u001b[49m\u001b[38;5;241;43m.\u001b[39;49m\u001b[43mset_index\u001b[49m\u001b[43m(\u001b[49m\u001b[43marr\u001b[49m\u001b[43m)\u001b[49m\n",
      "File \u001b[0;32m~/.local/lib/python3.8/site-packages/pandas/util/_decorators.py:331\u001b[0m, in \u001b[0;36mdeprecate_nonkeyword_arguments.<locals>.decorate.<locals>.wrapper\u001b[0;34m(*args, **kwargs)\u001b[0m\n\u001b[1;32m    325\u001b[0m \u001b[38;5;28;01mif\u001b[39;00m \u001b[38;5;28mlen\u001b[39m(args) \u001b[38;5;241m>\u001b[39m num_allow_args:\n\u001b[1;32m    326\u001b[0m     warnings\u001b[38;5;241m.\u001b[39mwarn(\n\u001b[1;32m    327\u001b[0m         msg\u001b[38;5;241m.\u001b[39mformat(arguments\u001b[38;5;241m=\u001b[39m_format_argument_list(allow_args)),\n\u001b[1;32m    328\u001b[0m         \u001b[38;5;167;01mFutureWarning\u001b[39;00m,\n\u001b[1;32m    329\u001b[0m         stacklevel\u001b[38;5;241m=\u001b[39mfind_stack_level(),\n\u001b[1;32m    330\u001b[0m     )\n\u001b[0;32m--> 331\u001b[0m \u001b[38;5;28;01mreturn\u001b[39;00m \u001b[43mfunc\u001b[49m\u001b[43m(\u001b[49m\u001b[38;5;241;43m*\u001b[39;49m\u001b[43margs\u001b[49m\u001b[43m,\u001b[49m\u001b[43m \u001b[49m\u001b[38;5;241;43m*\u001b[39;49m\u001b[38;5;241;43m*\u001b[39;49m\u001b[43mkwargs\u001b[49m\u001b[43m)\u001b[49m\n",
      "File \u001b[0;32m~/.local/lib/python3.8/site-packages/pandas/core/frame.py:6012\u001b[0m, in \u001b[0;36mDataFrame.set_index\u001b[0;34m(self, keys, drop, append, inplace, verify_integrity)\u001b[0m\n\u001b[1;32m   6009\u001b[0m                 missing\u001b[38;5;241m.\u001b[39mappend(col)\n\u001b[1;32m   6011\u001b[0m \u001b[38;5;28;01mif\u001b[39;00m missing:\n\u001b[0;32m-> 6012\u001b[0m     \u001b[38;5;28;01mraise\u001b[39;00m \u001b[38;5;167;01mKeyError\u001b[39;00m(\u001b[38;5;124mf\u001b[39m\u001b[38;5;124m\"\u001b[39m\u001b[38;5;124mNone of \u001b[39m\u001b[38;5;132;01m{\u001b[39;00mmissing\u001b[38;5;132;01m}\u001b[39;00m\u001b[38;5;124m are in the columns\u001b[39m\u001b[38;5;124m\"\u001b[39m)\n\u001b[1;32m   6014\u001b[0m \u001b[38;5;28;01mif\u001b[39;00m inplace:\n\u001b[1;32m   6015\u001b[0m     frame \u001b[38;5;241m=\u001b[39m \u001b[38;5;28mself\u001b[39m\n",
      "\u001b[0;31mKeyError\u001b[0m: \"None of [(1000, 'rbo'), (1000, 'overlap'), (1000, 'tau similarity'), (3000, 'rbo'), (3000, 'overlap'), (3000, 'tau similarity'), (5000, 'rbo'), (5000, 'overlap'), (5000, 'tau similarity')] are in the columns\""
     ]
    }
   ],
   "source": [
    "final_res.set_index(arr)"
   ]
  },
  {
   "cell_type": "code",
   "execution_count": 192,
   "id": "70229303-8815-4a57-a9e0-ed8587bc6c47",
   "metadata": {},
   "outputs": [],
   "source": [
    "index = pd.MultiIndex.from_tuples(tuples, names=[\"first\", \"second\"])"
   ]
  },
  {
   "cell_type": "code",
   "execution_count": 193,
   "id": "90ec1d49-3da8-4449-9ca8-d3e28b542c7f",
   "metadata": {},
   "outputs": [
    {
     "data": {
      "text/plain": [
       "MultiIndex([('bar', 'one'),\n",
       "            ('bar', 'two'),\n",
       "            ('baz', 'one'),\n",
       "            ('baz', 'two'),\n",
       "            ('foo', 'one'),\n",
       "            ('foo', 'two'),\n",
       "            ('qux', 'one'),\n",
       "            ('qux', 'two')],\n",
       "           names=['first', 'second'])"
      ]
     },
     "execution_count": 193,
     "metadata": {},
     "output_type": "execute_result"
    }
   ],
   "source": [
    "index"
   ]
  },
  {
   "cell_type": "code",
   "execution_count": null,
   "id": "b5c12824-3316-4404-a272-81b20d68c5f6",
   "metadata": {},
   "outputs": [],
   "source": []
  }
 ],
 "metadata": {
  "kernelspec": {
   "display_name": "py39",
   "language": "python",
   "name": "py39"
  },
  "language_info": {
   "codemirror_mode": {
    "name": "ipython",
    "version": 3
   },
   "file_extension": ".py",
   "mimetype": "text/x-python",
   "name": "python",
   "nbconvert_exporter": "python",
   "pygments_lexer": "ipython3",
   "version": "3.8.10"
  }
 },
 "nbformat": 4,
 "nbformat_minor": 5
}
